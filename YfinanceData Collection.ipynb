{
 "cells": [
  {
   "cell_type": "code",
   "execution_count": 1,
   "id": "79eda545",
   "metadata": {},
   "outputs": [],
   "source": [
    "import pandas as pd\n",
    "import yfinance as yf\n",
    "from pandas_datareader import data as pdr\n",
    "from datetime import date, timedelta"
   ]
  },
  {
   "cell_type": "code",
   "execution_count": 2,
   "id": "d570f522",
   "metadata": {},
   "outputs": [],
   "source": [
    "yf.pdr_override()"
   ]
  },
  {
   "cell_type": "code",
   "execution_count": 3,
   "id": "5c258606",
   "metadata": {},
   "outputs": [
    {
     "name": "stdout",
     "output_type": "stream",
     "text": [
      "[*********************100%***********************]  1 of 1 completed\n"
     ]
    },
    {
     "ename": "KeyError",
     "evalue": "'2022-07-25'",
     "output_type": "error",
     "traceback": [
      "\u001b[1;31m---------------------------------------------------------------------------\u001b[0m",
      "\u001b[1;31mKeyError\u001b[0m                                  Traceback (most recent call last)",
      "\u001b[1;32m~\\anaconda3\\envs\\cuda\\lib\\site-packages\\pandas\\core\\indexes\\base.py\u001b[0m in \u001b[0;36mget_loc\u001b[1;34m(self, key, method, tolerance)\u001b[0m\n\u001b[0;32m   3360\u001b[0m             \u001b[1;32mtry\u001b[0m\u001b[1;33m:\u001b[0m\u001b[1;33m\u001b[0m\u001b[1;33m\u001b[0m\u001b[0m\n\u001b[1;32m-> 3361\u001b[1;33m                 \u001b[1;32mreturn\u001b[0m \u001b[0mself\u001b[0m\u001b[1;33m.\u001b[0m\u001b[0m_engine\u001b[0m\u001b[1;33m.\u001b[0m\u001b[0mget_loc\u001b[0m\u001b[1;33m(\u001b[0m\u001b[0mcasted_key\u001b[0m\u001b[1;33m)\u001b[0m\u001b[1;33m\u001b[0m\u001b[1;33m\u001b[0m\u001b[0m\n\u001b[0m\u001b[0;32m   3362\u001b[0m             \u001b[1;32mexcept\u001b[0m \u001b[0mKeyError\u001b[0m \u001b[1;32mas\u001b[0m \u001b[0merr\u001b[0m\u001b[1;33m:\u001b[0m\u001b[1;33m\u001b[0m\u001b[1;33m\u001b[0m\u001b[0m\n",
      "\u001b[1;32m~\\anaconda3\\envs\\cuda\\lib\\site-packages\\pandas\\_libs\\index.pyx\u001b[0m in \u001b[0;36mpandas._libs.index.IndexEngine.get_loc\u001b[1;34m()\u001b[0m\n",
      "\u001b[1;32m~\\anaconda3\\envs\\cuda\\lib\\site-packages\\pandas\\_libs\\index.pyx\u001b[0m in \u001b[0;36mpandas._libs.index.IndexEngine.get_loc\u001b[1;34m()\u001b[0m\n",
      "\u001b[1;32mpandas\\_libs\\hashtable_class_helper.pxi\u001b[0m in \u001b[0;36mpandas._libs.hashtable.PyObjectHashTable.get_item\u001b[1;34m()\u001b[0m\n",
      "\u001b[1;32mpandas\\_libs\\hashtable_class_helper.pxi\u001b[0m in \u001b[0;36mpandas._libs.hashtable.PyObjectHashTable.get_item\u001b[1;34m()\u001b[0m\n",
      "\u001b[1;31mKeyError\u001b[0m: '2022-07-25'",
      "\nThe above exception was the direct cause of the following exception:\n",
      "\u001b[1;31mKeyError\u001b[0m                                  Traceback (most recent call last)",
      "\u001b[1;32mC:\\Users\\JUNGSU~1\\AppData\\Local\\Temp/ipykernel_3400/168322597.py\u001b[0m in \u001b[0;36m<module>\u001b[1;34m\u001b[0m\n\u001b[0;32m      1\u001b[0m \u001b[0mnasdaq_715_725\u001b[0m \u001b[1;33m=\u001b[0m \u001b[0myf\u001b[0m\u001b[1;33m.\u001b[0m\u001b[0mdownload\u001b[0m\u001b[1;33m(\u001b[0m\u001b[0mtickers\u001b[0m\u001b[1;33m=\u001b[0m\u001b[1;34m'^IXIC'\u001b[0m\u001b[1;33m,\u001b[0m \u001b[0mperiod\u001b[0m\u001b[1;33m=\u001b[0m\u001b[1;34m'1d'\u001b[0m\u001b[1;33m,\u001b[0m \u001b[0minterval\u001b[0m\u001b[1;33m=\u001b[0m\u001b[1;34m'1m'\u001b[0m\u001b[1;33m)\u001b[0m\u001b[1;33m\u001b[0m\u001b[1;33m\u001b[0m\u001b[0m\n\u001b[1;32m----> 2\u001b[1;33m \u001b[0mprint\u001b[0m\u001b[1;33m(\u001b[0m\u001b[0mnasdaq_715_725\u001b[0m\u001b[1;33m[\u001b[0m\u001b[1;34m'2022-07-25'\u001b[0m\u001b[1;33m]\u001b[0m\u001b[1;33m)\u001b[0m\u001b[1;33m\u001b[0m\u001b[1;33m\u001b[0m\u001b[0m\n\u001b[0m",
      "\u001b[1;32m~\\anaconda3\\envs\\cuda\\lib\\site-packages\\pandas\\core\\frame.py\u001b[0m in \u001b[0;36m__getitem__\u001b[1;34m(self, key)\u001b[0m\n\u001b[0;32m   3456\u001b[0m             \u001b[1;32mif\u001b[0m \u001b[0mself\u001b[0m\u001b[1;33m.\u001b[0m\u001b[0mcolumns\u001b[0m\u001b[1;33m.\u001b[0m\u001b[0mnlevels\u001b[0m \u001b[1;33m>\u001b[0m \u001b[1;36m1\u001b[0m\u001b[1;33m:\u001b[0m\u001b[1;33m\u001b[0m\u001b[1;33m\u001b[0m\u001b[0m\n\u001b[0;32m   3457\u001b[0m                 \u001b[1;32mreturn\u001b[0m \u001b[0mself\u001b[0m\u001b[1;33m.\u001b[0m\u001b[0m_getitem_multilevel\u001b[0m\u001b[1;33m(\u001b[0m\u001b[0mkey\u001b[0m\u001b[1;33m)\u001b[0m\u001b[1;33m\u001b[0m\u001b[1;33m\u001b[0m\u001b[0m\n\u001b[1;32m-> 3458\u001b[1;33m             \u001b[0mindexer\u001b[0m \u001b[1;33m=\u001b[0m \u001b[0mself\u001b[0m\u001b[1;33m.\u001b[0m\u001b[0mcolumns\u001b[0m\u001b[1;33m.\u001b[0m\u001b[0mget_loc\u001b[0m\u001b[1;33m(\u001b[0m\u001b[0mkey\u001b[0m\u001b[1;33m)\u001b[0m\u001b[1;33m\u001b[0m\u001b[1;33m\u001b[0m\u001b[0m\n\u001b[0m\u001b[0;32m   3459\u001b[0m             \u001b[1;32mif\u001b[0m \u001b[0mis_integer\u001b[0m\u001b[1;33m(\u001b[0m\u001b[0mindexer\u001b[0m\u001b[1;33m)\u001b[0m\u001b[1;33m:\u001b[0m\u001b[1;33m\u001b[0m\u001b[1;33m\u001b[0m\u001b[0m\n\u001b[0;32m   3460\u001b[0m                 \u001b[0mindexer\u001b[0m \u001b[1;33m=\u001b[0m \u001b[1;33m[\u001b[0m\u001b[0mindexer\u001b[0m\u001b[1;33m]\u001b[0m\u001b[1;33m\u001b[0m\u001b[1;33m\u001b[0m\u001b[0m\n",
      "\u001b[1;32m~\\anaconda3\\envs\\cuda\\lib\\site-packages\\pandas\\core\\indexes\\base.py\u001b[0m in \u001b[0;36mget_loc\u001b[1;34m(self, key, method, tolerance)\u001b[0m\n\u001b[0;32m   3361\u001b[0m                 \u001b[1;32mreturn\u001b[0m \u001b[0mself\u001b[0m\u001b[1;33m.\u001b[0m\u001b[0m_engine\u001b[0m\u001b[1;33m.\u001b[0m\u001b[0mget_loc\u001b[0m\u001b[1;33m(\u001b[0m\u001b[0mcasted_key\u001b[0m\u001b[1;33m)\u001b[0m\u001b[1;33m\u001b[0m\u001b[1;33m\u001b[0m\u001b[0m\n\u001b[0;32m   3362\u001b[0m             \u001b[1;32mexcept\u001b[0m \u001b[0mKeyError\u001b[0m \u001b[1;32mas\u001b[0m \u001b[0merr\u001b[0m\u001b[1;33m:\u001b[0m\u001b[1;33m\u001b[0m\u001b[1;33m\u001b[0m\u001b[0m\n\u001b[1;32m-> 3363\u001b[1;33m                 \u001b[1;32mraise\u001b[0m \u001b[0mKeyError\u001b[0m\u001b[1;33m(\u001b[0m\u001b[0mkey\u001b[0m\u001b[1;33m)\u001b[0m \u001b[1;32mfrom\u001b[0m \u001b[0merr\u001b[0m\u001b[1;33m\u001b[0m\u001b[1;33m\u001b[0m\u001b[0m\n\u001b[0m\u001b[0;32m   3364\u001b[0m \u001b[1;33m\u001b[0m\u001b[0m\n\u001b[0;32m   3365\u001b[0m         \u001b[1;32mif\u001b[0m \u001b[0mis_scalar\u001b[0m\u001b[1;33m(\u001b[0m\u001b[0mkey\u001b[0m\u001b[1;33m)\u001b[0m \u001b[1;32mand\u001b[0m \u001b[0misna\u001b[0m\u001b[1;33m(\u001b[0m\u001b[0mkey\u001b[0m\u001b[1;33m)\u001b[0m \u001b[1;32mand\u001b[0m \u001b[1;32mnot\u001b[0m \u001b[0mself\u001b[0m\u001b[1;33m.\u001b[0m\u001b[0mhasnans\u001b[0m\u001b[1;33m:\u001b[0m\u001b[1;33m\u001b[0m\u001b[1;33m\u001b[0m\u001b[0m\n",
      "\u001b[1;31mKeyError\u001b[0m: '2022-07-25'"
     ]
    }
   ],
   "source": [
    "nasdaq_715_725 = yf.download(tickers='^IXIC', period='1d', interval='1m')\n",
    "print(nasdaq_715_725['2022-07-25'])"
   ]
  },
  {
   "cell_type": "code",
   "execution_count": 4,
   "id": "92f02074",
   "metadata": {},
   "outputs": [
    {
     "name": "stdout",
     "output_type": "stream",
     "text": [
      "[*********************100%***********************]  1 of 1 completed\n",
      "\n",
      "1 Failed download:\n",
      "- ^IXIC: 1m data not available for startTime=1656514800 and endTime=1656687600. The requested range must be within the last 30 days.\n"
     ]
    },
    {
     "data": {
      "text/plain": [
       "pandas.core.frame.DataFrame"
      ]
     },
     "execution_count": 4,
     "metadata": {},
     "output_type": "execute_result"
    }
   ],
   "source": [
    "nasdaq_mon7 = yf.download(tickers='^IXIC', interval='1m', start='2022-06-30', end='2022-7-2')\n",
    "type(nasdaq_mon7)"
   ]
  },
  {
   "cell_type": "code",
   "execution_count": 5,
   "id": "818501c1",
   "metadata": {},
   "outputs": [
    {
     "name": "stdout",
     "output_type": "stream",
     "text": [
      "[*********************100%***********************]  1 of 1 completed\n",
      "\n",
      "1 Failed download:\n",
      "- ^IXIC: 1m data not available for startTime=1656687600 and endTime=1656774000. The requested range must be within the last 30 days.\n",
      "[*********************100%***********************]  1 of 1 completed\n",
      "\n",
      "1 Failed download:\n",
      "- ^IXIC: 1m data not available for startTime=1656774000 and endTime=1656860400. The requested range must be within the last 30 days.\n",
      "[*********************100%***********************]  1 of 1 completed\n",
      "\n",
      "1 Failed download:\n",
      "- ^IXIC: No data found for this date range, symbol may be delisted\n",
      "[*********************100%***********************]  1 of 1 completed\n",
      "[*********************100%***********************]  1 of 1 completed\n",
      "[*********************100%***********************]  1 of 1 completed\n",
      "[*********************100%***********************]  1 of 1 completed\n",
      "[*********************100%***********************]  1 of 1 completed\n",
      "[*********************100%***********************]  1 of 1 completed\n",
      "\n",
      "1 Failed download:\n",
      "- ^IXIC: No data found for this date range, symbol may be delisted\n",
      "[*********************100%***********************]  1 of 1 completed\n",
      "[*********************100%***********************]  1 of 1 completed\n",
      "[*********************100%***********************]  1 of 1 completed\n",
      "[*********************100%***********************]  1 of 1 completed\n",
      "[*********************100%***********************]  1 of 1 completed\n",
      "[*********************100%***********************]  1 of 1 completed\n",
      "[*********************100%***********************]  1 of 1 completed\n",
      "\n",
      "1 Failed download:\n",
      "- ^IXIC: No data found for this date range, symbol may be delisted\n",
      "[*********************100%***********************]  1 of 1 completed\n",
      "[*********************100%***********************]  1 of 1 completed\n",
      "[*********************100%***********************]  1 of 1 completed\n",
      "[*********************100%***********************]  1 of 1 completed\n",
      "[*********************100%***********************]  1 of 1 completed\n",
      "[*********************100%***********************]  1 of 1 completed\n",
      "[*********************100%***********************]  1 of 1 completed\n",
      "\n",
      "1 Failed download:\n",
      "- ^IXIC: No data found for this date range, symbol may be delisted\n",
      "[*********************100%***********************]  1 of 1 completed\n",
      "[*********************100%***********************]  1 of 1 completed\n",
      "[*********************100%***********************]  1 of 1 completed\n",
      "[*********************100%***********************]  1 of 1 completed\n",
      "[*********************100%***********************]  1 of 1 completed\n",
      "[*********************100%***********************]  1 of 1 completed\n",
      "[*********************100%***********************]  1 of 1 completed\n",
      "\n",
      "1 Failed download:\n",
      "- ^IXIC: No data found for this date range, symbol may be delisted\n",
      "[*********************100%***********************]  1 of 1 completed\n",
      "[*********************100%***********************]  1 of 1 completed\n"
     ]
    }
   ],
   "source": [
    "for start in pd.date_range('2022-7-2',str(date.today()), freq='D'):\n",
    "    end = start + timedelta(days=1)\n",
    "    nasdaq_mon7 = pd.concat([nasdaq_mon7, yf.download(tickers='^IXIC',  interval='1m', start=start, end=end)])"
   ]
  },
  {
   "cell_type": "code",
   "execution_count": 6,
   "id": "491b2439",
   "metadata": {},
   "outputs": [
    {
     "data": {
      "text/html": [
       "<div>\n",
       "<style scoped>\n",
       "    .dataframe tbody tr th:only-of-type {\n",
       "        vertical-align: middle;\n",
       "    }\n",
       "\n",
       "    .dataframe tbody tr th {\n",
       "        vertical-align: top;\n",
       "    }\n",
       "\n",
       "    .dataframe thead th {\n",
       "        text-align: right;\n",
       "    }\n",
       "</style>\n",
       "<table border=\"1\" class=\"dataframe\">\n",
       "  <thead>\n",
       "    <tr style=\"text-align: right;\">\n",
       "      <th></th>\n",
       "      <th>Open</th>\n",
       "      <th>High</th>\n",
       "      <th>Low</th>\n",
       "      <th>Close</th>\n",
       "      <th>Adj Close</th>\n",
       "      <th>Volume</th>\n",
       "    </tr>\n",
       "  </thead>\n",
       "  <tbody>\n",
       "    <tr>\n",
       "      <th>2022-07-05 09:30:00-04:00</th>\n",
       "      <td>10972.223633</td>\n",
       "      <td>10972.223633</td>\n",
       "      <td>10947.469727</td>\n",
       "      <td>10953.396484</td>\n",
       "      <td>10953.396484</td>\n",
       "      <td>0.0</td>\n",
       "    </tr>\n",
       "    <tr>\n",
       "      <th>2022-07-05 09:31:00-04:00</th>\n",
       "      <td>10952.701172</td>\n",
       "      <td>10952.701172</td>\n",
       "      <td>10931.684570</td>\n",
       "      <td>10931.684570</td>\n",
       "      <td>10931.684570</td>\n",
       "      <td>24429911.0</td>\n",
       "    </tr>\n",
       "    <tr>\n",
       "      <th>2022-07-05 09:32:00-04:00</th>\n",
       "      <td>10932.291016</td>\n",
       "      <td>10932.291016</td>\n",
       "      <td>10913.813477</td>\n",
       "      <td>10914.512695</td>\n",
       "      <td>10914.512695</td>\n",
       "      <td>22995164.0</td>\n",
       "    </tr>\n",
       "    <tr>\n",
       "      <th>2022-07-05 09:33:00-04:00</th>\n",
       "      <td>10916.964844</td>\n",
       "      <td>10929.708008</td>\n",
       "      <td>10914.733398</td>\n",
       "      <td>10929.708008</td>\n",
       "      <td>10929.708008</td>\n",
       "      <td>19608577.0</td>\n",
       "    </tr>\n",
       "    <tr>\n",
       "      <th>2022-07-05 09:34:00-04:00</th>\n",
       "      <td>10930.785156</td>\n",
       "      <td>10942.095703</td>\n",
       "      <td>10928.589844</td>\n",
       "      <td>10928.589844</td>\n",
       "      <td>10928.589844</td>\n",
       "      <td>19557283.0</td>\n",
       "    </tr>\n",
       "    <tr>\n",
       "      <th>...</th>\n",
       "      <td>...</td>\n",
       "      <td>...</td>\n",
       "      <td>...</td>\n",
       "      <td>...</td>\n",
       "      <td>...</td>\n",
       "      <td>...</td>\n",
       "    </tr>\n",
       "    <tr>\n",
       "      <th>2022-08-02 10:53:00-04:00</th>\n",
       "      <td>12400.027344</td>\n",
       "      <td>12412.405273</td>\n",
       "      <td>12400.027344</td>\n",
       "      <td>12412.405273</td>\n",
       "      <td>12412.405273</td>\n",
       "      <td>16372000.0</td>\n",
       "    </tr>\n",
       "    <tr>\n",
       "      <th>2022-08-02 10:54:00-04:00</th>\n",
       "      <td>12413.704102</td>\n",
       "      <td>12417.948242</td>\n",
       "      <td>12413.704102</td>\n",
       "      <td>12417.948242</td>\n",
       "      <td>12417.948242</td>\n",
       "      <td>13680000.0</td>\n",
       "    </tr>\n",
       "    <tr>\n",
       "      <th>2022-08-02 10:55:00-04:00</th>\n",
       "      <td>12416.170898</td>\n",
       "      <td>12418.175781</td>\n",
       "      <td>12405.743164</td>\n",
       "      <td>12405.743164</td>\n",
       "      <td>12405.743164</td>\n",
       "      <td>13477000.0</td>\n",
       "    </tr>\n",
       "    <tr>\n",
       "      <th>2022-08-02 10:56:00-04:00</th>\n",
       "      <td>12404.477539</td>\n",
       "      <td>12404.477539</td>\n",
       "      <td>12396.799805</td>\n",
       "      <td>12396.830078</td>\n",
       "      <td>12396.830078</td>\n",
       "      <td>12052000.0</td>\n",
       "    </tr>\n",
       "    <tr>\n",
       "      <th>2022-08-02 10:57:02-04:00</th>\n",
       "      <td>12398.066406</td>\n",
       "      <td>12398.066406</td>\n",
       "      <td>12398.066406</td>\n",
       "      <td>12398.066406</td>\n",
       "      <td>12398.066406</td>\n",
       "      <td>0.0</td>\n",
       "    </tr>\n",
       "  </tbody>\n",
       "</table>\n",
       "<p>7887 rows × 6 columns</p>\n",
       "</div>"
      ],
      "text/plain": [
       "                                   Open          High           Low  \\\n",
       "2022-07-05 09:30:00-04:00  10972.223633  10972.223633  10947.469727   \n",
       "2022-07-05 09:31:00-04:00  10952.701172  10952.701172  10931.684570   \n",
       "2022-07-05 09:32:00-04:00  10932.291016  10932.291016  10913.813477   \n",
       "2022-07-05 09:33:00-04:00  10916.964844  10929.708008  10914.733398   \n",
       "2022-07-05 09:34:00-04:00  10930.785156  10942.095703  10928.589844   \n",
       "...                                 ...           ...           ...   \n",
       "2022-08-02 10:53:00-04:00  12400.027344  12412.405273  12400.027344   \n",
       "2022-08-02 10:54:00-04:00  12413.704102  12417.948242  12413.704102   \n",
       "2022-08-02 10:55:00-04:00  12416.170898  12418.175781  12405.743164   \n",
       "2022-08-02 10:56:00-04:00  12404.477539  12404.477539  12396.799805   \n",
       "2022-08-02 10:57:02-04:00  12398.066406  12398.066406  12398.066406   \n",
       "\n",
       "                                  Close     Adj Close      Volume  \n",
       "2022-07-05 09:30:00-04:00  10953.396484  10953.396484         0.0  \n",
       "2022-07-05 09:31:00-04:00  10931.684570  10931.684570  24429911.0  \n",
       "2022-07-05 09:32:00-04:00  10914.512695  10914.512695  22995164.0  \n",
       "2022-07-05 09:33:00-04:00  10929.708008  10929.708008  19608577.0  \n",
       "2022-07-05 09:34:00-04:00  10928.589844  10928.589844  19557283.0  \n",
       "...                                 ...           ...         ...  \n",
       "2022-08-02 10:53:00-04:00  12412.405273  12412.405273  16372000.0  \n",
       "2022-08-02 10:54:00-04:00  12417.948242  12417.948242  13680000.0  \n",
       "2022-08-02 10:55:00-04:00  12405.743164  12405.743164  13477000.0  \n",
       "2022-08-02 10:56:00-04:00  12396.830078  12396.830078  12052000.0  \n",
       "2022-08-02 10:57:02-04:00  12398.066406  12398.066406         0.0  \n",
       "\n",
       "[7887 rows x 6 columns]"
      ]
     },
     "execution_count": 6,
     "metadata": {},
     "output_type": "execute_result"
    }
   ],
   "source": [
    "nasdaq_mon7"
   ]
  },
  {
   "cell_type": "code",
   "execution_count": 67,
   "id": "c1d6747c",
   "metadata": {},
   "outputs": [],
   "source": [
    "# 7월 데이터 저장하기\n",
    "for day in pd.date_range('2022-7-1',str(date.today()), freq='D'):\n",
    "    day_str = day.strftime('2022-%m-%d')\n",
    "    nasdaq = nasdaq_mon7[day_str] \n",
    "    nasdaq.to_csv(f\"./YfinanceData/nasdaq_{day_str}.csv\", mode='w')"
   ]
  },
  {
   "cell_type": "code",
   "execution_count": null,
   "id": "e28f697b",
   "metadata": {},
   "outputs": [],
   "source": [
    "# 데이터 동기화\n",
    "today_str = "
   ]
  }
 ],
 "metadata": {
  "kernelspec": {
   "display_name": "Python 3 (ipykernel)",
   "language": "python",
   "name": "python3"
  },
  "language_info": {
   "codemirror_mode": {
    "name": "ipython",
    "version": 3
   },
   "file_extension": ".py",
   "mimetype": "text/x-python",
   "name": "python",
   "nbconvert_exporter": "python",
   "pygments_lexer": "ipython3",
   "version": "3.9.7"
  }
 },
 "nbformat": 4,
 "nbformat_minor": 5
}
