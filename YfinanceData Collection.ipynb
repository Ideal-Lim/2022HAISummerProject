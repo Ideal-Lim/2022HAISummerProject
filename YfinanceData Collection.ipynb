{
 "cells": [
  {
   "cell_type": "code",
   "execution_count": 31,
   "id": "79eda545",
   "metadata": {},
   "outputs": [],
   "source": [
    "import pandas as pd\n",
    "import yfinance as yf\n",
    "from pandas_datareader import data as pdr\n",
    "from datetime import date, timedelta"
   ]
  },
  {
   "cell_type": "code",
   "execution_count": 2,
   "id": "d570f522",
   "metadata": {},
   "outputs": [],
   "source": [
    "yf.pdr_override()"
   ]
  },
  {
   "cell_type": "code",
   "execution_count": 38,
   "id": "5c258606",
   "metadata": {},
   "outputs": [
    {
     "name": "stdout",
     "output_type": "stream",
     "text": [
      "[*********************100%***********************]  1 of 1 completed\n",
      "                                   Open          High           Low  \\\n",
      "Datetime                                                              \n",
      "2022-07-25 09:30:00-04:00  11841.521484  11844.496094  11838.827148   \n",
      "2022-07-25 09:31:00-04:00  11844.193359  11845.971680  11833.789062   \n",
      "2022-07-25 09:32:00-04:00  11839.645508  11853.053711  11839.645508   \n",
      "2022-07-25 09:33:00-04:00  11848.487305  11848.487305  11840.165039   \n",
      "2022-07-25 09:34:00-04:00  11845.081055  11850.145508  11823.163086   \n",
      "...                                 ...           ...           ...   \n",
      "2022-07-25 15:56:00-04:00  11771.388672  11775.694336  11771.388672   \n",
      "2022-07-25 15:57:00-04:00  11776.299805  11777.648438  11769.859375   \n",
      "2022-07-25 15:58:00-04:00  11772.072266  11776.572266  11772.072266   \n",
      "2022-07-25 15:59:00-04:00  11776.871094  11785.538086  11776.871094   \n",
      "2022-07-25 16:00:00-04:00  11782.666016  11782.666016  11782.666016   \n",
      "\n",
      "                                  Close     Adj Close    Volume  \n",
      "Datetime                                                         \n",
      "2022-07-25 09:30:00-04:00  11842.318359  11842.318359         0  \n",
      "2022-07-25 09:31:00-04:00  11842.582031  11842.582031  23208924  \n",
      "2022-07-25 09:32:00-04:00  11850.073242  11850.073242  21096557  \n",
      "2022-07-25 09:33:00-04:00  11843.888672  11843.888672  18944674  \n",
      "2022-07-25 09:34:00-04:00  11825.589844  11825.589844  18386400  \n",
      "...                                 ...           ...       ...  \n",
      "2022-07-25 15:56:00-04:00  11775.694336  11775.694336  32749000  \n",
      "2022-07-25 15:57:00-04:00  11772.001953  11772.001953  14079000  \n",
      "2022-07-25 15:58:00-04:00  11776.572266  11776.572266  28701000  \n",
      "2022-07-25 15:59:00-04:00  11780.302734  11780.302734  38590000  \n",
      "2022-07-25 16:00:00-04:00  11782.666016  11782.666016         0  \n",
      "\n",
      "[391 rows x 6 columns]\n"
     ]
    },
    {
     "name": "stderr",
     "output_type": "stream",
     "text": [
      "/var/folders/f1/8sqqkq8j0dz3jtkx0lnjdy080000gn/T/ipykernel_5952/168322597.py:2: FutureWarning: Indexing a DataFrame with a datetimelike index using a single string to slice the rows, like `frame[string]`, is deprecated and will be removed in a future version. Use `frame.loc[string]` instead.\n",
      "  print(nasdaq_715_725['2022-07-25'])\n"
     ]
    }
   ],
   "source": [
    "nasdaq_715_725 = yf.download(tickers='^IXIC', period='1d', interval='1m')\n",
    "print(nasdaq_715_725['2022-07-25'])"
   ]
  },
  {
   "cell_type": "code",
   "execution_count": 60,
   "id": "92f02074",
   "metadata": {},
   "outputs": [
    {
     "name": "stdout",
     "output_type": "stream",
     "text": [
      "[*********************100%***********************]  1 of 1 completed\n"
     ]
    },
    {
     "data": {
      "text/plain": [
       "pandas.core.frame.DataFrame"
      ]
     },
     "execution_count": 60,
     "metadata": {},
     "output_type": "execute_result"
    }
   ],
   "source": [
    "nasdaq_mon7 = yf.download(tickers='^IXIC', interval='1m', start='2022-06-30', end='2022-7-2')\n",
    "type(nasdaq_mon7)"
   ]
  },
  {
   "cell_type": "code",
   "execution_count": 63,
   "id": "818501c1",
   "metadata": {},
   "outputs": [
    {
     "name": "stdout",
     "output_type": "stream",
     "text": [
      "[*********************100%***********************]  1 of 1 completed\n",
      "[*********************100%***********************]  1 of 1 completed\n",
      "\n",
      "1 Failed download:\n",
      "- ^IXIC: No data found for this date range, symbol may be delisted\n",
      "[*********************100%***********************]  1 of 1 completed\n",
      "\n",
      "1 Failed download:\n",
      "- ^IXIC: No data found for this date range, symbol may be delisted\n",
      "[*********************100%***********************]  1 of 1 completed\n",
      "[*********************100%***********************]  1 of 1 completed\n",
      "[*********************100%***********************]  1 of 1 completed\n",
      "[*********************100%***********************]  1 of 1 completed\n",
      "[*********************100%***********************]  1 of 1 completed\n",
      "[*********************100%***********************]  1 of 1 completed\n",
      "\n",
      "1 Failed download:\n",
      "- ^IXIC: No data found for this date range, symbol may be delisted\n",
      "[*********************100%***********************]  1 of 1 completed\n",
      "[*********************100%***********************]  1 of 1 completed\n",
      "[*********************100%***********************]  1 of 1 completed\n",
      "[*********************100%***********************]  1 of 1 completed\n",
      "[*********************100%***********************]  1 of 1 completed\n",
      "[*********************100%***********************]  1 of 1 completed\n",
      "[*********************100%***********************]  1 of 1 completed\n",
      "\n",
      "1 Failed download:\n",
      "- ^IXIC: No data found for this date range, symbol may be delisted\n",
      "[*********************100%***********************]  1 of 1 completed\n",
      "[*********************100%***********************]  1 of 1 completed\n",
      "[*********************100%***********************]  1 of 1 completed\n",
      "[*********************100%***********************]  1 of 1 completed\n",
      "[*********************100%***********************]  1 of 1 completed\n",
      "[*********************100%***********************]  1 of 1 completed\n",
      "[*********************100%***********************]  1 of 1 completed\n",
      "\n",
      "1 Failed download:\n",
      "- ^IXIC: No data found for this date range, symbol may be delisted\n",
      "[*********************100%***********************]  1 of 1 completed\n",
      "[*********************100%***********************]  1 of 1 completed\n"
     ]
    }
   ],
   "source": [
    "for start in pd.date_range('2022-7-2',str(date.today()), freq='D'):\n",
    "    end = start + timedelta(days=1)\n",
    "    nasdaq_mon7 = pd.concat([nasdaq_mon7, yf.download(tickers='^IXIC',  interval='1m', start=start, end=end)])"
   ]
  },
  {
   "cell_type": "code",
   "execution_count": 64,
   "id": "491b2439",
   "metadata": {},
   "outputs": [
    {
     "data": {
      "text/html": [
       "<div>\n",
       "<style scoped>\n",
       "    .dataframe tbody tr th:only-of-type {\n",
       "        vertical-align: middle;\n",
       "    }\n",
       "\n",
       "    .dataframe tbody tr th {\n",
       "        vertical-align: top;\n",
       "    }\n",
       "\n",
       "    .dataframe thead th {\n",
       "        text-align: right;\n",
       "    }\n",
       "</style>\n",
       "<table border=\"1\" class=\"dataframe\">\n",
       "  <thead>\n",
       "    <tr style=\"text-align: right;\">\n",
       "      <th></th>\n",
       "      <th>Open</th>\n",
       "      <th>High</th>\n",
       "      <th>Low</th>\n",
       "      <th>Close</th>\n",
       "      <th>Adj Close</th>\n",
       "      <th>Volume</th>\n",
       "    </tr>\n",
       "  </thead>\n",
       "  <tbody>\n",
       "    <tr>\n",
       "      <th>2022-06-29 11:00:00-04:00</th>\n",
       "      <td>11179.314453</td>\n",
       "      <td>11181.069336</td>\n",
       "      <td>11176.038086</td>\n",
       "      <td>11179.521484</td>\n",
       "      <td>11179.521484</td>\n",
       "      <td>0.0</td>\n",
       "    </tr>\n",
       "    <tr>\n",
       "      <th>2022-06-29 11:01:00-04:00</th>\n",
       "      <td>11180.568359</td>\n",
       "      <td>11180.568359</td>\n",
       "      <td>11171.231445</td>\n",
       "      <td>11171.231445</td>\n",
       "      <td>11171.231445</td>\n",
       "      <td>5140000.0</td>\n",
       "    </tr>\n",
       "    <tr>\n",
       "      <th>2022-06-29 11:02:00-04:00</th>\n",
       "      <td>11170.375977</td>\n",
       "      <td>11174.701172</td>\n",
       "      <td>11169.612305</td>\n",
       "      <td>11169.612305</td>\n",
       "      <td>11169.612305</td>\n",
       "      <td>21725000.0</td>\n",
       "    </tr>\n",
       "    <tr>\n",
       "      <th>2022-06-29 11:03:00-04:00</th>\n",
       "      <td>11168.383789</td>\n",
       "      <td>11171.644531</td>\n",
       "      <td>11167.313477</td>\n",
       "      <td>11171.187500</td>\n",
       "      <td>11171.187500</td>\n",
       "      <td>17558000.0</td>\n",
       "    </tr>\n",
       "    <tr>\n",
       "      <th>2022-06-29 11:04:00-04:00</th>\n",
       "      <td>11172.437500</td>\n",
       "      <td>11172.437500</td>\n",
       "      <td>11165.149414</td>\n",
       "      <td>11165.149414</td>\n",
       "      <td>11165.149414</td>\n",
       "      <td>10036000.0</td>\n",
       "    </tr>\n",
       "    <tr>\n",
       "      <th>...</th>\n",
       "      <td>...</td>\n",
       "      <td>...</td>\n",
       "      <td>...</td>\n",
       "      <td>...</td>\n",
       "      <td>...</td>\n",
       "      <td>...</td>\n",
       "    </tr>\n",
       "    <tr>\n",
       "      <th>2022-07-25 15:56:00-04:00</th>\n",
       "      <td>11771.388672</td>\n",
       "      <td>11775.694336</td>\n",
       "      <td>11771.388672</td>\n",
       "      <td>11775.694336</td>\n",
       "      <td>11775.694336</td>\n",
       "      <td>32749000.0</td>\n",
       "    </tr>\n",
       "    <tr>\n",
       "      <th>2022-07-25 15:57:00-04:00</th>\n",
       "      <td>11776.299805</td>\n",
       "      <td>11777.648438</td>\n",
       "      <td>11769.859375</td>\n",
       "      <td>11772.001953</td>\n",
       "      <td>11772.001953</td>\n",
       "      <td>14079000.0</td>\n",
       "    </tr>\n",
       "    <tr>\n",
       "      <th>2022-07-25 15:58:00-04:00</th>\n",
       "      <td>11772.072266</td>\n",
       "      <td>11776.572266</td>\n",
       "      <td>11772.072266</td>\n",
       "      <td>11776.572266</td>\n",
       "      <td>11776.572266</td>\n",
       "      <td>28701000.0</td>\n",
       "    </tr>\n",
       "    <tr>\n",
       "      <th>2022-07-25 15:59:00-04:00</th>\n",
       "      <td>11776.871094</td>\n",
       "      <td>11785.538086</td>\n",
       "      <td>11776.871094</td>\n",
       "      <td>11780.302734</td>\n",
       "      <td>11780.302734</td>\n",
       "      <td>38590000.0</td>\n",
       "    </tr>\n",
       "    <tr>\n",
       "      <th>2022-07-25 16:00:00-04:00</th>\n",
       "      <td>11782.666016</td>\n",
       "      <td>11782.666016</td>\n",
       "      <td>11782.666016</td>\n",
       "      <td>11782.666016</td>\n",
       "      <td>11782.666016</td>\n",
       "      <td>0.0</td>\n",
       "    </tr>\n",
       "  </tbody>\n",
       "</table>\n",
       "<p>6931 rows × 6 columns</p>\n",
       "</div>"
      ],
      "text/plain": [
       "                                   Open          High           Low  \\\n",
       "2022-06-29 11:00:00-04:00  11179.314453  11181.069336  11176.038086   \n",
       "2022-06-29 11:01:00-04:00  11180.568359  11180.568359  11171.231445   \n",
       "2022-06-29 11:02:00-04:00  11170.375977  11174.701172  11169.612305   \n",
       "2022-06-29 11:03:00-04:00  11168.383789  11171.644531  11167.313477   \n",
       "2022-06-29 11:04:00-04:00  11172.437500  11172.437500  11165.149414   \n",
       "...                                 ...           ...           ...   \n",
       "2022-07-25 15:56:00-04:00  11771.388672  11775.694336  11771.388672   \n",
       "2022-07-25 15:57:00-04:00  11776.299805  11777.648438  11769.859375   \n",
       "2022-07-25 15:58:00-04:00  11772.072266  11776.572266  11772.072266   \n",
       "2022-07-25 15:59:00-04:00  11776.871094  11785.538086  11776.871094   \n",
       "2022-07-25 16:00:00-04:00  11782.666016  11782.666016  11782.666016   \n",
       "\n",
       "                                  Close     Adj Close      Volume  \n",
       "2022-06-29 11:00:00-04:00  11179.521484  11179.521484         0.0  \n",
       "2022-06-29 11:01:00-04:00  11171.231445  11171.231445   5140000.0  \n",
       "2022-06-29 11:02:00-04:00  11169.612305  11169.612305  21725000.0  \n",
       "2022-06-29 11:03:00-04:00  11171.187500  11171.187500  17558000.0  \n",
       "2022-06-29 11:04:00-04:00  11165.149414  11165.149414  10036000.0  \n",
       "...                                 ...           ...         ...  \n",
       "2022-07-25 15:56:00-04:00  11775.694336  11775.694336  32749000.0  \n",
       "2022-07-25 15:57:00-04:00  11772.001953  11772.001953  14079000.0  \n",
       "2022-07-25 15:58:00-04:00  11776.572266  11776.572266  28701000.0  \n",
       "2022-07-25 15:59:00-04:00  11780.302734  11780.302734  38590000.0  \n",
       "2022-07-25 16:00:00-04:00  11782.666016  11782.666016         0.0  \n",
       "\n",
       "[6931 rows x 6 columns]"
      ]
     },
     "execution_count": 64,
     "metadata": {},
     "output_type": "execute_result"
    }
   ],
   "source": [
    "nasdaq_mon7"
   ]
  },
  {
   "cell_type": "code",
   "execution_count": 67,
   "id": "c1d6747c",
   "metadata": {},
   "outputs": [],
   "source": [
    "# 7월 데이터 저장하기\n",
    "for day in pd.date_range('2022-7-1',str(date.today()), freq='D'):\n",
    "    day_str = day.strftime('2022-%m-%d')\n",
    "    nasdaq = nasdaq_mon7[day_str] \n",
    "    nasdaq.to_csv(f\"./YfinanceData/nasdaq_{day_str}.csv\", mode='w')"
   ]
  },
  {
   "cell_type": "code",
   "execution_count": null,
   "id": "e28f697b",
   "metadata": {},
   "outputs": [],
   "source": []
  }
 ],
 "metadata": {
  "kernelspec": {
   "display_name": "Python 3 (ipykernel)",
   "language": "python",
   "name": "python3"
  },
  "language_info": {
   "codemirror_mode": {
    "name": "ipython",
    "version": 3
   },
   "file_extension": ".py",
   "mimetype": "text/x-python",
   "name": "python",
   "nbconvert_exporter": "python",
   "pygments_lexer": "ipython3",
   "version": "3.9.7"
  }
 },
 "nbformat": 4,
 "nbformat_minor": 5
}
