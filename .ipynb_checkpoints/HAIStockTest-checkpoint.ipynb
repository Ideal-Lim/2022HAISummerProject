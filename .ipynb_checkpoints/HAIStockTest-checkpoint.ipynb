{
 "cells": [
  {
   "cell_type": "code",
   "execution_count": 8,
   "id": "571d680a",
   "metadata": {},
   "outputs": [],
   "source": [
    "from hai_stock import OrderTypes, HAIStock\n",
    "import json"
   ]
  },
  {
   "cell_type": "code",
   "execution_count": 4,
   "id": "20ab97c8",
   "metadata": {},
   "outputs": [],
   "source": [
    "# 서버 접속\n",
    "stock = HAIStock('http://mlmi.iptime.org:8000', '09cbdda1-43f1-4d9c-b1ba-875aa06fb733')"
   ]
  },
  {
   "cell_type": "code",
   "execution_count": 14,
   "id": "ecdea510",
   "metadata": {},
   "outputs": [
    {
     "data": {
      "text/plain": [
       "{'token': '09cbdda1-43f1-4d9c-b1ba-875aa06fb733',\n",
       " 'name': '섭섭이',\n",
       " 'deposit': 100000000,\n",
       " 'stocks': {}}"
      ]
     },
     "execution_count": 14,
     "metadata": {},
     "output_type": "execute_result"
    }
   ],
   "source": [
    "# 계좌 정보\n",
    "info = stock.account_info()\n",
    "info"
   ]
  },
  {
   "cell_type": "code",
   "execution_count": 17,
   "id": "9d00a4f9",
   "metadata": {},
   "outputs": [
    {
     "name": "stdout",
     "output_type": "stream",
     "text": [
      "100000000 {}\n"
     ]
    }
   ],
   "source": [
    "# 잔금\n",
    "deposit = info.get('deposit')\n",
    "# 보유 주식\n",
    "stocks = info.get('stocks')\n",
    "print(deposit, stocks)"
   ]
  },
  {
   "cell_type": "code",
   "execution_count": 33,
   "id": "c5e952b0",
   "metadata": {},
   "outputs": [],
   "source": [
    "#사고 팔기\n",
    "order_list = []\n",
    "order_list.append(stock.send_order(order_type=OrderTypes.BUY, ticker='TQQQ', shares=1000, price=1000))"
   ]
  },
  {
   "cell_type": "code",
   "execution_count": 37,
   "id": "a88e1869",
   "metadata": {},
   "outputs": [
    {
     "name": "stdout",
     "output_type": "stream",
     "text": [
      "\"\"\n",
      "\n"
     ]
    }
   ],
   "source": [
    "#주문 취소\n",
    "print(stock.drop_order(order_list[0]))"
   ]
  },
  {
   "cell_type": "code",
   "execution_count": 35,
   "id": "4306d64c",
   "metadata": {},
   "outputs": [
    {
     "data": {
      "text/plain": [
       "{'token': '09cbdda1-43f1-4d9c-b1ba-875aa06fb733',\n",
       " 'name': '섭섭이',\n",
       " 'deposit': 100000000,\n",
       " 'stocks': {}}"
      ]
     },
     "execution_count": 35,
     "metadata": {},
     "output_type": "execute_result"
    }
   ],
   "source": [
    "info = stock.account_info()\n",
    "info"
   ]
  },
  {
   "cell_type": "code",
   "execution_count": 39,
   "id": "cde12e68",
   "metadata": {},
   "outputs": [
    {
     "data": {
      "text/plain": [
       "int"
      ]
     },
     "execution_count": 39,
     "metadata": {},
     "output_type": "execute_result"
    }
   ],
   "source": []
  },
  {
   "cell_type": "code",
   "execution_count": null,
   "id": "6eb9f8e1",
   "metadata": {},
   "outputs": [],
   "source": []
  }
 ],
 "metadata": {
  "kernelspec": {
   "display_name": "cuda",
   "language": "python",
   "name": "cuda"
  },
  "language_info": {
   "codemirror_mode": {
    "name": "ipython",
    "version": 3
   },
   "file_extension": ".py",
   "mimetype": "text/x-python",
   "name": "python",
   "nbconvert_exporter": "python",
   "pygments_lexer": "ipython3",
   "version": "3.9.7"
  }
 },
 "nbformat": 4,
 "nbformat_minor": 5
}
