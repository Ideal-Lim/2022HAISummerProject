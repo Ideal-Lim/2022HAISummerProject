{
 "cells": [
  {
   "cell_type": "code",
   "execution_count": 42,
   "id": "7fab49f1",
   "metadata": {},
   "outputs": [],
   "source": [
    "from pandas_datareader import data as pdr\n",
    "import yfinance as yf\n",
    "%matplotlib inline\n",
    "import matplotlib.pyplot as plt"
   ]
  },
  {
   "cell_type": "code",
   "execution_count": 43,
   "id": "8b5945d9",
   "metadata": {},
   "outputs": [],
   "source": [
    "# 데이터 불러오기\n",
    "yf.pdr_override()"
   ]
  },
  {
   "cell_type": "code",
   "execution_count": 52,
   "id": "5b106750",
   "metadata": {},
   "outputs": [
    {
     "name": "stdout",
     "output_type": "stream",
     "text": [
      "[*********************100%***********************]  1 of 1 completed\n"
     ]
    },
    {
     "data": {
      "text/html": [
       "<div>\n",
       "<style scoped>\n",
       "    .dataframe tbody tr th:only-of-type {\n",
       "        vertical-align: middle;\n",
       "    }\n",
       "\n",
       "    .dataframe tbody tr th {\n",
       "        vertical-align: top;\n",
       "    }\n",
       "\n",
       "    .dataframe thead th {\n",
       "        text-align: right;\n",
       "    }\n",
       "</style>\n",
       "<table border=\"1\" class=\"dataframe\">\n",
       "  <thead>\n",
       "    <tr style=\"text-align: right;\">\n",
       "      <th></th>\n",
       "      <th>Open</th>\n",
       "      <th>High</th>\n",
       "      <th>Low</th>\n",
       "      <th>Close</th>\n",
       "      <th>Adj Close</th>\n",
       "      <th>Volume</th>\n",
       "    </tr>\n",
       "    <tr>\n",
       "      <th>Date</th>\n",
       "      <th></th>\n",
       "      <th></th>\n",
       "      <th></th>\n",
       "      <th></th>\n",
       "      <th></th>\n",
       "      <th></th>\n",
       "    </tr>\n",
       "  </thead>\n",
       "  <tbody>\n",
       "    <tr>\n",
       "      <th>2021-12-31</th>\n",
       "      <td>15722.910156</td>\n",
       "      <td>15777.429688</td>\n",
       "      <td>15643.940430</td>\n",
       "      <td>15644.969727</td>\n",
       "      <td>15644.969727</td>\n",
       "      <td>3379850000</td>\n",
       "    </tr>\n",
       "    <tr>\n",
       "      <th>2022-01-03</th>\n",
       "      <td>15732.500000</td>\n",
       "      <td>15832.799805</td>\n",
       "      <td>15644.089844</td>\n",
       "      <td>15832.799805</td>\n",
       "      <td>15832.799805</td>\n",
       "      <td>4412130000</td>\n",
       "    </tr>\n",
       "    <tr>\n",
       "      <th>2022-01-04</th>\n",
       "      <td>15852.139648</td>\n",
       "      <td>15852.139648</td>\n",
       "      <td>15512.410156</td>\n",
       "      <td>15622.719727</td>\n",
       "      <td>15622.719727</td>\n",
       "      <td>5109270000</td>\n",
       "    </tr>\n",
       "    <tr>\n",
       "      <th>2022-01-05</th>\n",
       "      <td>15547.160156</td>\n",
       "      <td>15586.299805</td>\n",
       "      <td>15095.179688</td>\n",
       "      <td>15100.169922</td>\n",
       "      <td>15100.169922</td>\n",
       "      <td>5011990000</td>\n",
       "    </tr>\n",
       "    <tr>\n",
       "      <th>2022-01-06</th>\n",
       "      <td>15024.150391</td>\n",
       "      <td>15198.450195</td>\n",
       "      <td>14914.870117</td>\n",
       "      <td>15080.860352</td>\n",
       "      <td>15080.860352</td>\n",
       "      <td>4774740000</td>\n",
       "    </tr>\n",
       "    <tr>\n",
       "      <th>2022-01-07</th>\n",
       "      <td>15095.719727</td>\n",
       "      <td>15171.019531</td>\n",
       "      <td>14877.629883</td>\n",
       "      <td>14935.900391</td>\n",
       "      <td>14935.900391</td>\n",
       "      <td>4229270000</td>\n",
       "    </tr>\n",
       "    <tr>\n",
       "      <th>2022-01-10</th>\n",
       "      <td>14751.780273</td>\n",
       "      <td>14953.849609</td>\n",
       "      <td>14530.230469</td>\n",
       "      <td>14942.830078</td>\n",
       "      <td>14942.830078</td>\n",
       "      <td>5303230000</td>\n",
       "    </tr>\n",
       "    <tr>\n",
       "      <th>2022-01-11</th>\n",
       "      <td>14919.259766</td>\n",
       "      <td>15158.709961</td>\n",
       "      <td>14837.629883</td>\n",
       "      <td>15153.450195</td>\n",
       "      <td>15153.450195</td>\n",
       "      <td>4378660000</td>\n",
       "    </tr>\n",
       "    <tr>\n",
       "      <th>2022-01-12</th>\n",
       "      <td>15263.099609</td>\n",
       "      <td>15319.030273</td>\n",
       "      <td>15117.290039</td>\n",
       "      <td>15188.389648</td>\n",
       "      <td>15188.389648</td>\n",
       "      <td>4321180000</td>\n",
       "    </tr>\n",
       "    <tr>\n",
       "      <th>2022-01-13</th>\n",
       "      <td>15245.040039</td>\n",
       "      <td>15259.709961</td>\n",
       "      <td>14782.240234</td>\n",
       "      <td>14806.809570</td>\n",
       "      <td>14806.809570</td>\n",
       "      <td>4283070000</td>\n",
       "    </tr>\n",
       "  </tbody>\n",
       "</table>\n",
       "</div>"
      ],
      "text/plain": [
       "                    Open          High           Low         Close  \\\n",
       "Date                                                                 \n",
       "2021-12-31  15722.910156  15777.429688  15643.940430  15644.969727   \n",
       "2022-01-03  15732.500000  15832.799805  15644.089844  15832.799805   \n",
       "2022-01-04  15852.139648  15852.139648  15512.410156  15622.719727   \n",
       "2022-01-05  15547.160156  15586.299805  15095.179688  15100.169922   \n",
       "2022-01-06  15024.150391  15198.450195  14914.870117  15080.860352   \n",
       "2022-01-07  15095.719727  15171.019531  14877.629883  14935.900391   \n",
       "2022-01-10  14751.780273  14953.849609  14530.230469  14942.830078   \n",
       "2022-01-11  14919.259766  15158.709961  14837.629883  15153.450195   \n",
       "2022-01-12  15263.099609  15319.030273  15117.290039  15188.389648   \n",
       "2022-01-13  15245.040039  15259.709961  14782.240234  14806.809570   \n",
       "\n",
       "               Adj Close      Volume  \n",
       "Date                                  \n",
       "2021-12-31  15644.969727  3379850000  \n",
       "2022-01-03  15832.799805  4412130000  \n",
       "2022-01-04  15622.719727  5109270000  \n",
       "2022-01-05  15100.169922  5011990000  \n",
       "2022-01-06  15080.860352  4774740000  \n",
       "2022-01-07  14935.900391  4229270000  \n",
       "2022-01-10  14942.830078  5303230000  \n",
       "2022-01-11  15153.450195  4378660000  \n",
       "2022-01-12  15188.389648  4321180000  \n",
       "2022-01-13  14806.809570  4283070000  "
      ]
     },
     "execution_count": 52,
     "metadata": {},
     "output_type": "execute_result"
    }
   ],
   "source": [
    "# 나스닥 지수 심볼 IXIC\n",
    "nasdaq = pdr.get_data_yahoo('^IXIC', start='2022-01-01')\n",
    "nasdaq.head(10)"
   ]
  },
  {
   "cell_type": "code",
   "execution_count": 53,
   "id": "8eeb83ce",
   "metadata": {},
   "outputs": [
    {
     "data": {
      "text/plain": [
       "DatetimeIndex(['2021-12-31', '2022-01-03', '2022-01-04', '2022-01-05',\n",
       "               '2022-01-06', '2022-01-07', '2022-01-10', '2022-01-11',\n",
       "               '2022-01-12', '2022-01-13',\n",
       "               ...\n",
       "               '2022-07-08', '2022-07-11', '2022-07-12', '2022-07-13',\n",
       "               '2022-07-14', '2022-07-15', '2022-07-18', '2022-07-19',\n",
       "               '2022-07-20', '2022-07-21'],\n",
       "              dtype='datetime64[ns]', name='Date', length=139, freq=None)"
      ]
     },
     "execution_count": 53,
     "metadata": {},
     "output_type": "execute_result"
    }
   ],
   "source": [
    "# nasdaq Datatime 1971-02-05 ~ 2022-07-21\n",
    "nasdaq.index"
   ]
  },
  {
   "cell_type": "code",
   "execution_count": 54,
   "id": "770bd052",
   "metadata": {},
   "outputs": [
    {
     "data": {
      "text/plain": [
       "Index(['Open', 'High', 'Low', 'Close', 'Adj Close', 'Volume'], dtype='object')"
      ]
     },
     "execution_count": 54,
     "metadata": {},
     "output_type": "execute_result"
    }
   ],
   "source": [
    "# 시가 고가 저가 종가 \n",
    "nasdaq.columns"
   ]
  },
  {
   "cell_type": "code",
   "execution_count": 55,
   "id": "a97747a5",
   "metadata": {},
   "outputs": [
    {
     "data": {
      "image/png": "[encoded data removed]",
      "text/plain": [
       "<Figure size 432x288 with 1 Axes>"
      ]
     },
     "metadata": {
      "needs_background": "light"
     },
     "output_type": "display_data"
    }
   ],
   "source": [
    "# 그래프 그리기\n",
    "plt.plot(nasdaq.index, nasdaq.Close, 'b', label='NASDAQ')\n",
    "plt.legend(loc='best')\n",
    "plt.show()"
   ]
  },
  {
   "cell_type": "markdown",
   "id": "4fd17040",
   "metadata": {},
   "source": [
    "### 일간 변동률"
   ]
  },
  {
   "cell_type": "code",
   "execution_count": 56,
   "id": "c41b99e3",
   "metadata": {},
   "outputs": [
    {
     "data": {
      "text/plain": [
       "Date\n",
       "2021-12-31         NaN\n",
       "2022-01-03    1.200578\n",
       "2022-01-04   -1.326866\n",
       "2022-01-05   -3.344807\n",
       "2022-01-06   -0.127877\n",
       "2022-01-07   -0.961218\n",
       "2022-01-10    0.046396\n",
       "2022-01-11    1.409506\n",
       "2022-01-12    0.230571\n",
       "2022-01-13   -2.512314\n",
       "Name: Close, dtype: float64"
      ]
     },
     "execution_count": 56,
     "metadata": {},
     "output_type": "execute_result"
    }
   ],
   "source": [
    "# 일간 변동률 (data percentage change)\n",
    "nasdaq_dpc = (nasdaq['Close'] / nasdaq['Close'].shift(1)-1)*100\n",
    "nasdaq_dpc.head(10)"
   ]
  },
  {
   "cell_type": "code",
   "execution_count": 57,
   "id": "48d6a621",
   "metadata": {},
   "outputs": [],
   "source": [
    "# 첫 번째 데이터 NaN -> 0\n",
    "nasdaq_dpc.iloc[0] = 0"
   ]
  },
  {
   "cell_type": "code",
   "execution_count": 67,
   "id": "c66668be",
   "metadata": {},
   "outputs": [
    {
     "data": {
      "image/png": "[encoded data removed]",
      "text/plain": [
       "<Figure size 432x288 with 1 Axes>"
      ]
     },
     "metadata": {
      "needs_background": "light"
     },
     "output_type": "display_data"
    }
   ],
   "source": [
    "plt.bar(nasdaq_dpc.index,nasdaq_dpc, label='NASDAQ_DPC')\n",
    "plt.legend(loc='best')\n",
    "plt.show()"
   ]
  },
  {
   "cell_type": "code",
   "execution_count": 60,
   "id": "a46b0b3c",
   "metadata": {},
   "outputs": [
    {
     "data": {
      "image/png": "[encoded data removed]",
      "text/plain": [
       "<Figure size 432x288 with 1 Axes>"
      ]
     },
     "metadata": {
      "needs_background": "light"
     },
     "output_type": "display_data"
    }
   ],
   "source": [
    "# 일간 변동률 분포 확인\n",
    "# bins 는 x 축 구간 개수\n",
    "plt.hist(nasdaq_dpc, bins=18)\n",
    "plt.grid(True) # 격자 생성\n",
    "plt.show()"
   ]
  },
  {
   "cell_type": "code",
   "execution_count": 64,
   "id": "e1c43f6e",
   "metadata": {},
   "outputs": [
    {
     "data": {
      "text/plain": [
       "-22.917955828902883"
      ]
     },
     "execution_count": 64,
     "metadata": {},
     "output_type": "execute_result"
    }
   ],
   "source": [
    "# 일간 변동률 누적합 구하기\n",
    "nasdaq_dpc_cs = nasdaq_dpc.cumsum()\n",
    "nasdaq_dpc_cs[-1]"
   ]
  },
  {
   "cell_type": "code",
   "execution_count": null,
   "id": "49c89bda",
   "metadata": {},
   "outputs": [],
   "source": []
  },
  {
   "cell_type": "code",
   "execution_count": null,
   "id": "703066b3",
   "metadata": {},
   "outputs": [],
   "source": []
  },
  {
   "cell_type": "code",
   "execution_count": null,
   "id": "3410e389",
   "metadata": {},
   "outputs": [],
   "source": []
  }
 ],
 "metadata": {
  "kernelspec": {
   "display_name": "Python 3 (ipykernel)",
   "language": "python",
   "name": "python3"
  },
  "language_info": {
   "codemirror_mode": {
    "name": "ipython",
    "version": 3
   },
   "file_extension": ".py",
   "mimetype": "text/x-python",
   "name": "python",
   "nbconvert_exporter": "python",
   "pygments_lexer": "ipython3",
   "version": "3.9.7"
  }
 },
 "nbformat": 4,
 "nbformat_minor": 5
}
