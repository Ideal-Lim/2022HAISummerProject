{
 "cells": [
  {
   "cell_type": "code",
   "execution_count": 24,
   "id": "7fab49f1",
   "metadata": {},
   "outputs": [],
   "source": [
    "from pandas_datareader import data as pdr\n",
    "import yfinance as yf\n",
    "%matplotlib inline\n",
    "import matplotlib.pyplot as plt\n",
    "from datetime import datetime\n",
    "import pandas as pd"
   ]
  },
  {
   "cell_type": "code",
   "execution_count": 3,
   "id": "8b5945d9",
   "metadata": {},
   "outputs": [],
   "source": [
    "# 데이터 불러오기\n",
    "yf.pdr_override()"
   ]
  },
  {
   "cell_type": "code",
   "execution_count": 4,
   "id": "5b106750",
   "metadata": {},
   "outputs": [
    {
     "name": "stdout",
     "output_type": "stream",
     "text": [
      "[*********************100%***********************]  1 of 1 completed\n"
     ]
    },
    {
     "data": {
      "text/html": [
       "<div>\n",
       "<style scoped>\n",
       "    .dataframe tbody tr th:only-of-type {\n",
       "        vertical-align: middle;\n",
       "    }\n",
       "\n",
       "    .dataframe tbody tr th {\n",
       "        vertical-align: top;\n",
       "    }\n",
       "\n",
       "    .dataframe thead th {\n",
       "        text-align: right;\n",
       "    }\n",
       "</style>\n",
       "<table border=\"1\" class=\"dataframe\">\n",
       "  <thead>\n",
       "    <tr style=\"text-align: right;\">\n",
       "      <th></th>\n",
       "      <th>Open</th>\n",
       "      <th>High</th>\n",
       "      <th>Low</th>\n",
       "      <th>Close</th>\n",
       "      <th>Adj Close</th>\n",
       "      <th>Volume</th>\n",
       "    </tr>\n",
       "    <tr>\n",
       "      <th>Date</th>\n",
       "      <th></th>\n",
       "      <th></th>\n",
       "      <th></th>\n",
       "      <th></th>\n",
       "      <th></th>\n",
       "      <th></th>\n",
       "    </tr>\n",
       "  </thead>\n",
       "  <tbody>\n",
       "    <tr>\n",
       "      <th>2021-12-31</th>\n",
       "      <td>15722.910156</td>\n",
       "      <td>15777.429688</td>\n",
       "      <td>15643.940430</td>\n",
       "      <td>15644.969727</td>\n",
       "      <td>15644.969727</td>\n",
       "      <td>3379850000</td>\n",
       "    </tr>\n",
       "    <tr>\n",
       "      <th>2022-01-03</th>\n",
       "      <td>15732.500000</td>\n",
       "      <td>15832.799805</td>\n",
       "      <td>15644.089844</td>\n",
       "      <td>15832.799805</td>\n",
       "      <td>15832.799805</td>\n",
       "      <td>4412130000</td>\n",
       "    </tr>\n",
       "    <tr>\n",
       "      <th>2022-01-04</th>\n",
       "      <td>15852.139648</td>\n",
       "      <td>15852.139648</td>\n",
       "      <td>15512.410156</td>\n",
       "      <td>15622.719727</td>\n",
       "      <td>15622.719727</td>\n",
       "      <td>5109270000</td>\n",
       "    </tr>\n",
       "    <tr>\n",
       "      <th>2022-01-05</th>\n",
       "      <td>15547.160156</td>\n",
       "      <td>15586.299805</td>\n",
       "      <td>15095.179688</td>\n",
       "      <td>15100.169922</td>\n",
       "      <td>15100.169922</td>\n",
       "      <td>5011990000</td>\n",
       "    </tr>\n",
       "    <tr>\n",
       "      <th>2022-01-06</th>\n",
       "      <td>15024.150391</td>\n",
       "      <td>15198.450195</td>\n",
       "      <td>14914.870117</td>\n",
       "      <td>15080.860352</td>\n",
       "      <td>15080.860352</td>\n",
       "      <td>4774740000</td>\n",
       "    </tr>\n",
       "    <tr>\n",
       "      <th>2022-01-07</th>\n",
       "      <td>15095.719727</td>\n",
       "      <td>15171.019531</td>\n",
       "      <td>14877.629883</td>\n",
       "      <td>14935.900391</td>\n",
       "      <td>14935.900391</td>\n",
       "      <td>4229270000</td>\n",
       "    </tr>\n",
       "    <tr>\n",
       "      <th>2022-01-10</th>\n",
       "      <td>14751.780273</td>\n",
       "      <td>14953.849609</td>\n",
       "      <td>14530.230469</td>\n",
       "      <td>14942.830078</td>\n",
       "      <td>14942.830078</td>\n",
       "      <td>5303230000</td>\n",
       "    </tr>\n",
       "    <tr>\n",
       "      <th>2022-01-11</th>\n",
       "      <td>14919.259766</td>\n",
       "      <td>15158.709961</td>\n",
       "      <td>14837.629883</td>\n",
       "      <td>15153.450195</td>\n",
       "      <td>15153.450195</td>\n",
       "      <td>4378660000</td>\n",
       "    </tr>\n",
       "    <tr>\n",
       "      <th>2022-01-12</th>\n",
       "      <td>15263.099609</td>\n",
       "      <td>15319.030273</td>\n",
       "      <td>15117.290039</td>\n",
       "      <td>15188.389648</td>\n",
       "      <td>15188.389648</td>\n",
       "      <td>4321180000</td>\n",
       "    </tr>\n",
       "    <tr>\n",
       "      <th>2022-01-13</th>\n",
       "      <td>15245.040039</td>\n",
       "      <td>15259.709961</td>\n",
       "      <td>14782.240234</td>\n",
       "      <td>14806.809570</td>\n",
       "      <td>14806.809570</td>\n",
       "      <td>4283070000</td>\n",
       "    </tr>\n",
       "  </tbody>\n",
       "</table>\n",
       "</div>"
      ],
      "text/plain": [
       "                    Open          High           Low         Close  \\\n",
       "Date                                                                 \n",
       "2021-12-31  15722.910156  15777.429688  15643.940430  15644.969727   \n",
       "2022-01-03  15732.500000  15832.799805  15644.089844  15832.799805   \n",
       "2022-01-04  15852.139648  15852.139648  15512.410156  15622.719727   \n",
       "2022-01-05  15547.160156  15586.299805  15095.179688  15100.169922   \n",
       "2022-01-06  15024.150391  15198.450195  14914.870117  15080.860352   \n",
       "2022-01-07  15095.719727  15171.019531  14877.629883  14935.900391   \n",
       "2022-01-10  14751.780273  14953.849609  14530.230469  14942.830078   \n",
       "2022-01-11  14919.259766  15158.709961  14837.629883  15153.450195   \n",
       "2022-01-12  15263.099609  15319.030273  15117.290039  15188.389648   \n",
       "2022-01-13  15245.040039  15259.709961  14782.240234  14806.809570   \n",
       "\n",
       "               Adj Close      Volume  \n",
       "Date                                  \n",
       "2021-12-31  15644.969727  3379850000  \n",
       "2022-01-03  15832.799805  4412130000  \n",
       "2022-01-04  15622.719727  5109270000  \n",
       "2022-01-05  15100.169922  5011990000  \n",
       "2022-01-06  15080.860352  4774740000  \n",
       "2022-01-07  14935.900391  4229270000  \n",
       "2022-01-10  14942.830078  5303230000  \n",
       "2022-01-11  15153.450195  4378660000  \n",
       "2022-01-12  15188.389648  4321180000  \n",
       "2022-01-13  14806.809570  4283070000  "
      ]
     },
     "execution_count": 4,
     "metadata": {},
     "output_type": "execute_result"
    }
   ],
   "source": [
    "# 나스닥 지수 심볼 IXIC\n",
    "nasdaq = pdr.get_data_yahoo('^IXIC', start='2022-01-01')\n",
    "nasdaq.head(10)"
   ]
  },
  {
   "cell_type": "code",
   "execution_count": 5,
   "id": "8eeb83ce",
   "metadata": {},
   "outputs": [
    {
     "data": {
      "text/plain": [
       "DatetimeIndex(['2021-12-31', '2022-01-03', '2022-01-04', '2022-01-05',\n",
       "               '2022-01-06', '2022-01-07', '2022-01-10', '2022-01-11',\n",
       "               '2022-01-12', '2022-01-13',\n",
       "               ...\n",
       "               '2022-07-12', '2022-07-13', '2022-07-14', '2022-07-15',\n",
       "               '2022-07-18', '2022-07-19', '2022-07-20', '2022-07-21',\n",
       "               '2022-07-22', '2022-07-25'],\n",
       "              dtype='datetime64[ns]', name='Date', length=141, freq=None)"
      ]
     },
     "execution_count": 5,
     "metadata": {},
     "output_type": "execute_result"
    }
   ],
   "source": [
    "# nasdaq Datatime 1971-02-05 ~ 2022-07-21\n",
    "nasdaq.index"
   ]
  },
  {
   "cell_type": "code",
   "execution_count": 6,
   "id": "770bd052",
   "metadata": {},
   "outputs": [
    {
     "data": {
      "text/plain": [
       "Index(['Open', 'High', 'Low', 'Close', 'Adj Close', 'Volume'], dtype='object')"
      ]
     },
     "execution_count": 6,
     "metadata": {},
     "output_type": "execute_result"
    }
   ],
   "source": [
    "# 시가 고가 저가 종가 \n",
    "nasdaq.columns"
   ]
  },
  {
   "cell_type": "code",
   "execution_count": 7,
   "id": "a97747a5",
   "metadata": {},
   "outputs": [
    {
     "data": {
      "image/png": "[encoded data removed]",
      "text/plain": [
       "<Figure size 432x288 with 1 Axes>"
      ]
     },
     "metadata": {
      "needs_background": "light"
     },
     "output_type": "display_data"
    }
   ],
   "source": [
    "# 그래프 그리기\n",
    "plt.plot(nasdaq.index, nasdaq.Close, 'b', label='NASDAQ')\n",
    "plt.legend(loc='best')\n",
    "plt.show()"
   ]
  },
  {
   "cell_type": "markdown",
   "id": "4fd17040",
   "metadata": {},
   "source": [
    "### 일간 변동률"
   ]
  },
  {
   "cell_type": "code",
   "execution_count": 8,
   "id": "c41b99e3",
   "metadata": {},
   "outputs": [
    {
     "data": {
      "text/plain": [
       "Date\n",
       "2021-12-31         NaN\n",
       "2022-01-03    1.200578\n",
       "2022-01-04   -1.326866\n",
       "2022-01-05   -3.344807\n",
       "2022-01-06   -0.127877\n",
       "2022-01-07   -0.961218\n",
       "2022-01-10    0.046396\n",
       "2022-01-11    1.409506\n",
       "2022-01-12    0.230571\n",
       "2022-01-13   -2.512314\n",
       "Name: Close, dtype: float64"
      ]
     },
     "execution_count": 8,
     "metadata": {},
     "output_type": "execute_result"
    }
   ],
   "source": [
    "# 일간 변동률 (data percentage change)\n",
    "nasdaq_dpc = (nasdaq['Close'] / nasdaq['Close'].shift(1)-1)*100\n",
    "nasdaq_dpc.head(10)"
   ]
  },
  {
   "cell_type": "code",
   "execution_count": 9,
   "id": "48d6a621",
   "metadata": {},
   "outputs": [],
   "source": [
    "# 첫 번째 데이터 NaN -> 0\n",
    "nasdaq_dpc.iloc[0] = 0"
   ]
  },
  {
   "cell_type": "code",
   "execution_count": 10,
   "id": "c66668be",
   "metadata": {},
   "outputs": [
    {
     "data": {
      "image/png": "[encoded data removed]",
      "text/plain": [
       "<Figure size 432x288 with 1 Axes>"
      ]
     },
     "metadata": {
      "needs_background": "light"
     },
     "output_type": "display_data"
    }
   ],
   "source": [
    "plt.bar(nasdaq_dpc.index,nasdaq_dpc, label='NASDAQ_DPC')\n",
    "plt.legend(loc='best')\n",
    "plt.show()"
   ]
  },
  {
   "cell_type": "code",
   "execution_count": 11,
   "id": "a46b0b3c",
   "metadata": {},
   "outputs": [
    {
     "data": {
      "image/png": "[encoded data removed]",
      "text/plain": [
       "<Figure size 432x288 with 1 Axes>"
      ]
     },
     "metadata": {
      "needs_background": "light"
     },
     "output_type": "display_data"
    }
   ],
   "source": [
    "# 일간 변동률 분포 확인\n",
    "# bins 는 x 축 구간 개수\n",
    "plt.hist(nasdaq_dpc, bins=18)\n",
    "plt.grid(True) # 격자 생성\n",
    "plt.show()"
   ]
  },
  {
   "cell_type": "code",
   "execution_count": 12,
   "id": "e1c43f6e",
   "metadata": {},
   "outputs": [
    {
     "data": {
      "text/plain": [
       "-25.222513135801563"
      ]
     },
     "execution_count": 12,
     "metadata": {},
     "output_type": "execute_result"
    }
   ],
   "source": [
    "# 일간 변동률 누적합 구하기\n",
    "nasdaq_dpc_cs = nasdaq_dpc.cumsum()\n",
    "nasdaq_dpc_cs[-1]"
   ]
  },
  {
   "cell_type": "markdown",
   "id": "1e2bb07b",
   "metadata": {},
   "source": [
    "## 나스닥 시간별 데이터 불러오기"
   ]
  },
  {
   "cell_type": "markdown",
   "id": "7cfd5f63",
   "metadata": {},
   "source": [
    "### 1분 단위"
   ]
  },
  {
   "cell_type": "code",
   "execution_count": 13,
   "id": "703066b3",
   "metadata": {},
   "outputs": [
    {
     "name": "stdout",
     "output_type": "stream",
     "text": [
      "[*********************100%***********************]  1 of 1 completed\n"
     ]
    },
    {
     "data": {
      "text/html": [
       "<div>\n",
       "<style scoped>\n",
       "    .dataframe tbody tr th:only-of-type {\n",
       "        vertical-align: middle;\n",
       "    }\n",
       "\n",
       "    .dataframe tbody tr th {\n",
       "        vertical-align: top;\n",
       "    }\n",
       "\n",
       "    .dataframe thead th {\n",
       "        text-align: right;\n",
       "    }\n",
       "</style>\n",
       "<table border=\"1\" class=\"dataframe\">\n",
       "  <thead>\n",
       "    <tr style=\"text-align: right;\">\n",
       "      <th></th>\n",
       "      <th>Open</th>\n",
       "      <th>High</th>\n",
       "      <th>Low</th>\n",
       "      <th>Close</th>\n",
       "      <th>Adj Close</th>\n",
       "      <th>Volume</th>\n",
       "    </tr>\n",
       "    <tr>\n",
       "      <th>Datetime</th>\n",
       "      <th></th>\n",
       "      <th></th>\n",
       "      <th></th>\n",
       "      <th></th>\n",
       "      <th></th>\n",
       "      <th></th>\n",
       "    </tr>\n",
       "  </thead>\n",
       "  <tbody>\n",
       "    <tr>\n",
       "      <th>2022-07-15 09:30:00-04:00</th>\n",
       "      <td>11378.739258</td>\n",
       "      <td>11400.101562</td>\n",
       "      <td>11378.739258</td>\n",
       "      <td>11397.380859</td>\n",
       "      <td>11397.380859</td>\n",
       "      <td>0</td>\n",
       "    </tr>\n",
       "    <tr>\n",
       "      <th>2022-07-15 09:31:00-04:00</th>\n",
       "      <td>11392.058594</td>\n",
       "      <td>11392.345703</td>\n",
       "      <td>11382.930664</td>\n",
       "      <td>11382.930664</td>\n",
       "      <td>11382.930664</td>\n",
       "      <td>23004949</td>\n",
       "    </tr>\n",
       "    <tr>\n",
       "      <th>2022-07-15 09:32:00-04:00</th>\n",
       "      <td>11387.660156</td>\n",
       "      <td>11409.929688</td>\n",
       "      <td>11387.660156</td>\n",
       "      <td>11409.146484</td>\n",
       "      <td>11409.146484</td>\n",
       "      <td>21228773</td>\n",
       "    </tr>\n",
       "    <tr>\n",
       "      <th>2022-07-15 09:33:00-04:00</th>\n",
       "      <td>11411.965820</td>\n",
       "      <td>11411.965820</td>\n",
       "      <td>11395.879883</td>\n",
       "      <td>11395.879883</td>\n",
       "      <td>11395.879883</td>\n",
       "      <td>18136211</td>\n",
       "    </tr>\n",
       "    <tr>\n",
       "      <th>2022-07-15 09:34:00-04:00</th>\n",
       "      <td>11407.100586</td>\n",
       "      <td>11407.100586</td>\n",
       "      <td>11393.502930</td>\n",
       "      <td>11399.085938</td>\n",
       "      <td>11399.085938</td>\n",
       "      <td>21378584</td>\n",
       "    </tr>\n",
       "    <tr>\n",
       "      <th>2022-07-15 09:35:00-04:00</th>\n",
       "      <td>11398.468750</td>\n",
       "      <td>11416.366211</td>\n",
       "      <td>11398.468750</td>\n",
       "      <td>11416.366211</td>\n",
       "      <td>11416.366211</td>\n",
       "      <td>18740696</td>\n",
       "    </tr>\n",
       "    <tr>\n",
       "      <th>2022-07-15 09:36:00-04:00</th>\n",
       "      <td>11419.321289</td>\n",
       "      <td>11419.321289</td>\n",
       "      <td>11403.836914</td>\n",
       "      <td>11407.715820</td>\n",
       "      <td>11407.715820</td>\n",
       "      <td>19589868</td>\n",
       "    </tr>\n",
       "    <tr>\n",
       "      <th>2022-07-15 09:37:00-04:00</th>\n",
       "      <td>11406.991211</td>\n",
       "      <td>11410.742188</td>\n",
       "      <td>11403.515625</td>\n",
       "      <td>11403.579102</td>\n",
       "      <td>11403.579102</td>\n",
       "      <td>18991100</td>\n",
       "    </tr>\n",
       "    <tr>\n",
       "      <th>2022-07-15 09:38:00-04:00</th>\n",
       "      <td>11405.999023</td>\n",
       "      <td>11407.589844</td>\n",
       "      <td>11400.906250</td>\n",
       "      <td>11400.906250</td>\n",
       "      <td>11400.906250</td>\n",
       "      <td>16624182</td>\n",
       "    </tr>\n",
       "    <tr>\n",
       "      <th>2022-07-15 09:39:00-04:00</th>\n",
       "      <td>11395.333008</td>\n",
       "      <td>11395.333008</td>\n",
       "      <td>11378.999023</td>\n",
       "      <td>11378.999023</td>\n",
       "      <td>11378.999023</td>\n",
       "      <td>17166055</td>\n",
       "    </tr>\n",
       "  </tbody>\n",
       "</table>\n",
       "</div>"
      ],
      "text/plain": [
       "                                   Open          High           Low  \\\n",
       "Datetime                                                              \n",
       "2022-07-15 09:30:00-04:00  11378.739258  11400.101562  11378.739258   \n",
       "2022-07-15 09:31:00-04:00  11392.058594  11392.345703  11382.930664   \n",
       "2022-07-15 09:32:00-04:00  11387.660156  11409.929688  11387.660156   \n",
       "2022-07-15 09:33:00-04:00  11411.965820  11411.965820  11395.879883   \n",
       "2022-07-15 09:34:00-04:00  11407.100586  11407.100586  11393.502930   \n",
       "2022-07-15 09:35:00-04:00  11398.468750  11416.366211  11398.468750   \n",
       "2022-07-15 09:36:00-04:00  11419.321289  11419.321289  11403.836914   \n",
       "2022-07-15 09:37:00-04:00  11406.991211  11410.742188  11403.515625   \n",
       "2022-07-15 09:38:00-04:00  11405.999023  11407.589844  11400.906250   \n",
       "2022-07-15 09:39:00-04:00  11395.333008  11395.333008  11378.999023   \n",
       "\n",
       "                                  Close     Adj Close    Volume  \n",
       "Datetime                                                         \n",
       "2022-07-15 09:30:00-04:00  11397.380859  11397.380859         0  \n",
       "2022-07-15 09:31:00-04:00  11382.930664  11382.930664  23004949  \n",
       "2022-07-15 09:32:00-04:00  11409.146484  11409.146484  21228773  \n",
       "2022-07-15 09:33:00-04:00  11395.879883  11395.879883  18136211  \n",
       "2022-07-15 09:34:00-04:00  11399.085938  11399.085938  21378584  \n",
       "2022-07-15 09:35:00-04:00  11416.366211  11416.366211  18740696  \n",
       "2022-07-15 09:36:00-04:00  11407.715820  11407.715820  19589868  \n",
       "2022-07-15 09:37:00-04:00  11403.579102  11403.579102  18991100  \n",
       "2022-07-15 09:38:00-04:00  11400.906250  11400.906250  16624182  \n",
       "2022-07-15 09:39:00-04:00  11378.999023  11378.999023  17166055  "
      ]
     },
     "execution_count": 13,
     "metadata": {},
     "output_type": "execute_result"
    }
   ],
   "source": [
    "#1분 단위\n",
    "nasdaq = yf.download(tickers='^IXIC', period='7d', interval='1m')\n",
    "nasdaq.head(10)"
   ]
  },
  {
   "cell_type": "code",
   "execution_count": 14,
   "id": "3410e389",
   "metadata": {},
   "outputs": [
    {
     "name": "stderr",
     "output_type": "stream",
     "text": [
      "/var/folders/f1/8sqqkq8j0dz3jtkx0lnjdy080000gn/T/ipykernel_5924/2759730534.py:3: FutureWarning: Indexing a timezone-aware DatetimeIndex with a timezone-naive datetime is deprecated and will raise KeyError in a future version.  Use a timezone-aware object instead.\n",
      "  nasdaq722 = nasdaq[start: end]\n"
     ]
    },
    {
     "data": {
      "text/html": [
       "<div>\n",
       "<style scoped>\n",
       "    .dataframe tbody tr th:only-of-type {\n",
       "        vertical-align: middle;\n",
       "    }\n",
       "\n",
       "    .dataframe tbody tr th {\n",
       "        vertical-align: top;\n",
       "    }\n",
       "\n",
       "    .dataframe thead th {\n",
       "        text-align: right;\n",
       "    }\n",
       "</style>\n",
       "<table border=\"1\" class=\"dataframe\">\n",
       "  <thead>\n",
       "    <tr style=\"text-align: right;\">\n",
       "      <th></th>\n",
       "      <th>Open</th>\n",
       "      <th>High</th>\n",
       "      <th>Low</th>\n",
       "      <th>Close</th>\n",
       "      <th>Adj Close</th>\n",
       "      <th>Volume</th>\n",
       "    </tr>\n",
       "    <tr>\n",
       "      <th>Datetime</th>\n",
       "      <th></th>\n",
       "      <th></th>\n",
       "      <th></th>\n",
       "      <th></th>\n",
       "      <th></th>\n",
       "      <th></th>\n",
       "    </tr>\n",
       "  </thead>\n",
       "  <tbody>\n",
       "    <tr>\n",
       "      <th>2022-07-22 09:31:00-04:00</th>\n",
       "      <td>12030.266602</td>\n",
       "      <td>12034.800781</td>\n",
       "      <td>12023.542969</td>\n",
       "      <td>12024.520508</td>\n",
       "      <td>12024.520508</td>\n",
       "      <td>26283031</td>\n",
       "    </tr>\n",
       "    <tr>\n",
       "      <th>2022-07-22 09:32:00-04:00</th>\n",
       "      <td>12015.978516</td>\n",
       "      <td>12015.978516</td>\n",
       "      <td>11999.714844</td>\n",
       "      <td>12005.636719</td>\n",
       "      <td>12005.636719</td>\n",
       "      <td>29225294</td>\n",
       "    </tr>\n",
       "    <tr>\n",
       "      <th>2022-07-22 09:33:00-04:00</th>\n",
       "      <td>11999.943359</td>\n",
       "      <td>12015.262695</td>\n",
       "      <td>11999.943359</td>\n",
       "      <td>12012.970703</td>\n",
       "      <td>12012.970703</td>\n",
       "      <td>23992974</td>\n",
       "    </tr>\n",
       "    <tr>\n",
       "      <th>2022-07-22 09:34:00-04:00</th>\n",
       "      <td>12012.179688</td>\n",
       "      <td>12015.189453</td>\n",
       "      <td>12006.793945</td>\n",
       "      <td>12008.992188</td>\n",
       "      <td>12008.992188</td>\n",
       "      <td>20927553</td>\n",
       "    </tr>\n",
       "    <tr>\n",
       "      <th>2022-07-22 09:35:00-04:00</th>\n",
       "      <td>12000.588867</td>\n",
       "      <td>12001.713867</td>\n",
       "      <td>11994.034180</td>\n",
       "      <td>11998.818359</td>\n",
       "      <td>11998.818359</td>\n",
       "      <td>24755975</td>\n",
       "    </tr>\n",
       "    <tr>\n",
       "      <th>...</th>\n",
       "      <td>...</td>\n",
       "      <td>...</td>\n",
       "      <td>...</td>\n",
       "      <td>...</td>\n",
       "      <td>...</td>\n",
       "      <td>...</td>\n",
       "    </tr>\n",
       "    <tr>\n",
       "      <th>2022-07-22 12:27:00-04:00</th>\n",
       "      <td>11838.383789</td>\n",
       "      <td>11839.583984</td>\n",
       "      <td>11831.910156</td>\n",
       "      <td>11835.597656</td>\n",
       "      <td>11835.597656</td>\n",
       "      <td>7249000</td>\n",
       "    </tr>\n",
       "    <tr>\n",
       "      <th>2022-07-22 12:28:00-04:00</th>\n",
       "      <td>11841.809570</td>\n",
       "      <td>11850.523438</td>\n",
       "      <td>11841.809570</td>\n",
       "      <td>11850.523438</td>\n",
       "      <td>11850.523438</td>\n",
       "      <td>10275000</td>\n",
       "    </tr>\n",
       "    <tr>\n",
       "      <th>2022-07-22 12:29:00-04:00</th>\n",
       "      <td>11851.231445</td>\n",
       "      <td>11853.614258</td>\n",
       "      <td>11849.137695</td>\n",
       "      <td>11849.137695</td>\n",
       "      <td>11849.137695</td>\n",
       "      <td>7484000</td>\n",
       "    </tr>\n",
       "    <tr>\n",
       "      <th>2022-07-22 12:30:00-04:00</th>\n",
       "      <td>11849.077148</td>\n",
       "      <td>11850.769531</td>\n",
       "      <td>11848.245117</td>\n",
       "      <td>11850.769531</td>\n",
       "      <td>11850.769531</td>\n",
       "      <td>6686000</td>\n",
       "    </tr>\n",
       "    <tr>\n",
       "      <th>2022-07-22 12:31:00-04:00</th>\n",
       "      <td>11851.345703</td>\n",
       "      <td>11854.670898</td>\n",
       "      <td>11851.345703</td>\n",
       "      <td>11852.685547</td>\n",
       "      <td>11852.685547</td>\n",
       "      <td>8227000</td>\n",
       "    </tr>\n",
       "  </tbody>\n",
       "</table>\n",
       "<p>181 rows × 6 columns</p>\n",
       "</div>"
      ],
      "text/plain": [
       "                                   Open          High           Low  \\\n",
       "Datetime                                                              \n",
       "2022-07-22 09:31:00-04:00  12030.266602  12034.800781  12023.542969   \n",
       "2022-07-22 09:32:00-04:00  12015.978516  12015.978516  11999.714844   \n",
       "2022-07-22 09:33:00-04:00  11999.943359  12015.262695  11999.943359   \n",
       "2022-07-22 09:34:00-04:00  12012.179688  12015.189453  12006.793945   \n",
       "2022-07-22 09:35:00-04:00  12000.588867  12001.713867  11994.034180   \n",
       "...                                 ...           ...           ...   \n",
       "2022-07-22 12:27:00-04:00  11838.383789  11839.583984  11831.910156   \n",
       "2022-07-22 12:28:00-04:00  11841.809570  11850.523438  11841.809570   \n",
       "2022-07-22 12:29:00-04:00  11851.231445  11853.614258  11849.137695   \n",
       "2022-07-22 12:30:00-04:00  11849.077148  11850.769531  11848.245117   \n",
       "2022-07-22 12:31:00-04:00  11851.345703  11854.670898  11851.345703   \n",
       "\n",
       "                                  Close     Adj Close    Volume  \n",
       "Datetime                                                         \n",
       "2022-07-22 09:31:00-04:00  12024.520508  12024.520508  26283031  \n",
       "2022-07-22 09:32:00-04:00  12005.636719  12005.636719  29225294  \n",
       "2022-07-22 09:33:00-04:00  12012.970703  12012.970703  23992974  \n",
       "2022-07-22 09:34:00-04:00  12008.992188  12008.992188  20927553  \n",
       "2022-07-22 09:35:00-04:00  11998.818359  11998.818359  24755975  \n",
       "...                                 ...           ...       ...  \n",
       "2022-07-22 12:27:00-04:00  11835.597656  11835.597656   7249000  \n",
       "2022-07-22 12:28:00-04:00  11850.523438  11850.523438  10275000  \n",
       "2022-07-22 12:29:00-04:00  11849.137695  11849.137695   7484000  \n",
       "2022-07-22 12:30:00-04:00  11850.769531  11850.769531   6686000  \n",
       "2022-07-22 12:31:00-04:00  11852.685547  11852.685547   8227000  \n",
       "\n",
       "[181 rows x 6 columns]"
      ]
     },
     "execution_count": 14,
     "metadata": {},
     "output_type": "execute_result"
    }
   ],
   "source": [
    "start = datetime(2022, 7, 22, 9, 30, 0)\n",
    "end = datetime(2022, 7, 22, 12, 31, 0)\n",
    "nasdaq722 = nasdaq[start: end]\n",
    "nasdaq722[1:]"
   ]
  },
  {
   "cell_type": "code",
   "execution_count": 15,
   "id": "3b11c7f8",
   "metadata": {},
   "outputs": [
    {
     "data": {
      "text/plain": [
       "[<matplotlib.lines.Line2D at 0x7fa010960dc0>]"
      ]
     },
     "execution_count": 15,
     "metadata": {},
     "output_type": "execute_result"
    },
    {
     "data": {
      "image/png": "[encoded data removed]",
      "text/plain": [
       "<Figure size 432x288 with 1 Axes>"
      ]
     },
     "metadata": {
      "needs_background": "light"
     },
     "output_type": "display_data"
    }
   ],
   "source": [
    "plt.plot(nasdaq722.index, nasdaq722['Close'], 'b', label='nasdaq722')"
   ]
  },
  {
   "cell_type": "markdown",
   "id": "30f59dc0",
   "metadata": {},
   "source": [
    "### 5분 단위"
   ]
  },
  {
   "cell_type": "code",
   "execution_count": 16,
   "id": "38b4ca66",
   "metadata": {},
   "outputs": [
    {
     "name": "stdout",
     "output_type": "stream",
     "text": [
      "[*********************100%***********************]  1 of 1 completed\n"
     ]
    },
    {
     "data": {
      "text/html": [
       "<div>\n",
       "<style scoped>\n",
       "    .dataframe tbody tr th:only-of-type {\n",
       "        vertical-align: middle;\n",
       "    }\n",
       "\n",
       "    .dataframe tbody tr th {\n",
       "        vertical-align: top;\n",
       "    }\n",
       "\n",
       "    .dataframe thead th {\n",
       "        text-align: right;\n",
       "    }\n",
       "</style>\n",
       "<table border=\"1\" class=\"dataframe\">\n",
       "  <thead>\n",
       "    <tr style=\"text-align: right;\">\n",
       "      <th></th>\n",
       "      <th>Open</th>\n",
       "      <th>High</th>\n",
       "      <th>Low</th>\n",
       "      <th>Close</th>\n",
       "      <th>Adj Close</th>\n",
       "      <th>Volume</th>\n",
       "    </tr>\n",
       "    <tr>\n",
       "      <th>Datetime</th>\n",
       "      <th></th>\n",
       "      <th></th>\n",
       "      <th></th>\n",
       "      <th></th>\n",
       "      <th></th>\n",
       "      <th></th>\n",
       "    </tr>\n",
       "  </thead>\n",
       "  <tbody>\n",
       "    <tr>\n",
       "      <th>2022-07-15 09:30:00-04:00</th>\n",
       "      <td>11378.739258</td>\n",
       "      <td>11411.965820</td>\n",
       "      <td>11378.739258</td>\n",
       "      <td>11399.085938</td>\n",
       "      <td>11399.085938</td>\n",
       "      <td>0</td>\n",
       "    </tr>\n",
       "    <tr>\n",
       "      <th>2022-07-15 09:35:00-04:00</th>\n",
       "      <td>11398.468750</td>\n",
       "      <td>11419.321289</td>\n",
       "      <td>11378.999023</td>\n",
       "      <td>11378.999023</td>\n",
       "      <td>11378.999023</td>\n",
       "      <td>91111901</td>\n",
       "    </tr>\n",
       "    <tr>\n",
       "      <th>2022-07-15 09:40:00-04:00</th>\n",
       "      <td>11383.869141</td>\n",
       "      <td>11383.869141</td>\n",
       "      <td>11364.001953</td>\n",
       "      <td>11372.920898</td>\n",
       "      <td>11372.920898</td>\n",
       "      <td>79915108</td>\n",
       "    </tr>\n",
       "    <tr>\n",
       "      <th>2022-07-15 09:45:00-04:00</th>\n",
       "      <td>11368.818359</td>\n",
       "      <td>11368.818359</td>\n",
       "      <td>11325.311523</td>\n",
       "      <td>11332.887695</td>\n",
       "      <td>11332.887695</td>\n",
       "      <td>76931787</td>\n",
       "    </tr>\n",
       "    <tr>\n",
       "      <th>2022-07-15 09:50:00-04:00</th>\n",
       "      <td>11333.325195</td>\n",
       "      <td>11336.779297</td>\n",
       "      <td>11299.155273</td>\n",
       "      <td>11303.365234</td>\n",
       "      <td>11303.365234</td>\n",
       "      <td>69570699</td>\n",
       "    </tr>\n",
       "  </tbody>\n",
       "</table>\n",
       "</div>"
      ],
      "text/plain": [
       "                                   Open          High           Low  \\\n",
       "Datetime                                                              \n",
       "2022-07-15 09:30:00-04:00  11378.739258  11411.965820  11378.739258   \n",
       "2022-07-15 09:35:00-04:00  11398.468750  11419.321289  11378.999023   \n",
       "2022-07-15 09:40:00-04:00  11383.869141  11383.869141  11364.001953   \n",
       "2022-07-15 09:45:00-04:00  11368.818359  11368.818359  11325.311523   \n",
       "2022-07-15 09:50:00-04:00  11333.325195  11336.779297  11299.155273   \n",
       "\n",
       "                                  Close     Adj Close    Volume  \n",
       "Datetime                                                         \n",
       "2022-07-15 09:30:00-04:00  11399.085938  11399.085938         0  \n",
       "2022-07-15 09:35:00-04:00  11378.999023  11378.999023  91111901  \n",
       "2022-07-15 09:40:00-04:00  11372.920898  11372.920898  79915108  \n",
       "2022-07-15 09:45:00-04:00  11332.887695  11332.887695  76931787  \n",
       "2022-07-15 09:50:00-04:00  11303.365234  11303.365234  69570699  "
      ]
     },
     "execution_count": 16,
     "metadata": {},
     "output_type": "execute_result"
    }
   ],
   "source": [
    "#5분 단위\n",
    "nasdaq = yf.download(tickers='^IXIC', period='7d', interval='5m')\n",
    "nasdaq.head()"
   ]
  },
  {
   "cell_type": "code",
   "execution_count": 17,
   "id": "d084b0b3",
   "metadata": {},
   "outputs": [
    {
     "name": "stderr",
     "output_type": "stream",
     "text": [
      "/var/folders/f1/8sqqkq8j0dz3jtkx0lnjdy080000gn/T/ipykernel_5924/3884773329.py:3: FutureWarning: Indexing a timezone-aware DatetimeIndex with a timezone-naive datetime is deprecated and will raise KeyError in a future version.  Use a timezone-aware object instead.\n",
      "  nasdaq722 = nasdaq[start: end]\n"
     ]
    },
    {
     "data": {
      "text/html": [
       "<div>\n",
       "<style scoped>\n",
       "    .dataframe tbody tr th:only-of-type {\n",
       "        vertical-align: middle;\n",
       "    }\n",
       "\n",
       "    .dataframe tbody tr th {\n",
       "        vertical-align: top;\n",
       "    }\n",
       "\n",
       "    .dataframe thead th {\n",
       "        text-align: right;\n",
       "    }\n",
       "</style>\n",
       "<table border=\"1\" class=\"dataframe\">\n",
       "  <thead>\n",
       "    <tr style=\"text-align: right;\">\n",
       "      <th></th>\n",
       "      <th>Open</th>\n",
       "      <th>High</th>\n",
       "      <th>Low</th>\n",
       "      <th>Close</th>\n",
       "      <th>Adj Close</th>\n",
       "      <th>Volume</th>\n",
       "    </tr>\n",
       "    <tr>\n",
       "      <th>Datetime</th>\n",
       "      <th></th>\n",
       "      <th></th>\n",
       "      <th></th>\n",
       "      <th></th>\n",
       "      <th></th>\n",
       "      <th></th>\n",
       "    </tr>\n",
       "  </thead>\n",
       "  <tbody>\n",
       "    <tr>\n",
       "      <th>2022-07-22 09:30:00-04:00</th>\n",
       "      <td>12026.138672</td>\n",
       "      <td>12034.800781</td>\n",
       "      <td>11999.714844</td>\n",
       "      <td>12008.992188</td>\n",
       "      <td>12008.992188</td>\n",
       "      <td>0</td>\n",
       "    </tr>\n",
       "    <tr>\n",
       "      <th>2022-07-22 09:35:00-04:00</th>\n",
       "      <td>12000.588867</td>\n",
       "      <td>12048.859375</td>\n",
       "      <td>11989.260742</td>\n",
       "      <td>12045.877930</td>\n",
       "      <td>12045.877930</td>\n",
       "      <td>105861967</td>\n",
       "    </tr>\n",
       "    <tr>\n",
       "      <th>2022-07-22 09:40:00-04:00</th>\n",
       "      <td>12048.524414</td>\n",
       "      <td>12054.207031</td>\n",
       "      <td>12032.867188</td>\n",
       "      <td>12036.447266</td>\n",
       "      <td>12036.447266</td>\n",
       "      <td>85006468</td>\n",
       "    </tr>\n",
       "    <tr>\n",
       "      <th>2022-07-22 09:45:00-04:00</th>\n",
       "      <td>12038.505859</td>\n",
       "      <td>12064.835938</td>\n",
       "      <td>12024.949219</td>\n",
       "      <td>12064.835938</td>\n",
       "      <td>12064.835938</td>\n",
       "      <td>81196522</td>\n",
       "    </tr>\n",
       "    <tr>\n",
       "      <th>2022-07-22 09:50:00-04:00</th>\n",
       "      <td>12063.350586</td>\n",
       "      <td>12091.910156</td>\n",
       "      <td>12024.449219</td>\n",
       "      <td>12028.790039</td>\n",
       "      <td>12028.790039</td>\n",
       "      <td>93561053</td>\n",
       "    </tr>\n",
       "  </tbody>\n",
       "</table>\n",
       "</div>"
      ],
      "text/plain": [
       "                                   Open          High           Low  \\\n",
       "Datetime                                                              \n",
       "2022-07-22 09:30:00-04:00  12026.138672  12034.800781  11999.714844   \n",
       "2022-07-22 09:35:00-04:00  12000.588867  12048.859375  11989.260742   \n",
       "2022-07-22 09:40:00-04:00  12048.524414  12054.207031  12032.867188   \n",
       "2022-07-22 09:45:00-04:00  12038.505859  12064.835938  12024.949219   \n",
       "2022-07-22 09:50:00-04:00  12063.350586  12091.910156  12024.449219   \n",
       "\n",
       "                                  Close     Adj Close     Volume  \n",
       "Datetime                                                          \n",
       "2022-07-22 09:30:00-04:00  12008.992188  12008.992188          0  \n",
       "2022-07-22 09:35:00-04:00  12045.877930  12045.877930  105861967  \n",
       "2022-07-22 09:40:00-04:00  12036.447266  12036.447266   85006468  \n",
       "2022-07-22 09:45:00-04:00  12064.835938  12064.835938   81196522  \n",
       "2022-07-22 09:50:00-04:00  12028.790039  12028.790039   93561053  "
      ]
     },
     "execution_count": 17,
     "metadata": {},
     "output_type": "execute_result"
    }
   ],
   "source": [
    "start = datetime(2022, 7, 22, 9, 30, 0)\n",
    "end = datetime(2022, 7, 22, 12, 31, 0)\n",
    "nasdaq722 = nasdaq[start: end]\n",
    "nasdaq722.head(5)"
   ]
  },
  {
   "cell_type": "code",
   "execution_count": 18,
   "id": "04fb73d0",
   "metadata": {},
   "outputs": [
    {
     "data": {
      "text/plain": [
       "<matplotlib.legend.Legend at 0x7fa0109a1670>"
      ]
     },
     "execution_count": 18,
     "metadata": {},
     "output_type": "execute_result"
    },
    {
     "data": {
      "image/png": "[encoded data removed]",
      "text/plain": [
       "<Figure size 432x288 with 1 Axes>"
      ]
     },
     "metadata": {
      "needs_background": "light"
     },
     "output_type": "display_data"
    }
   ],
   "source": [
    "plt.plot(nasdaq722.index, nasdaq722['Close'], 'b', label='nasdaq722')\n",
    "plt.legend(loc='best')"
   ]
  },
  {
   "cell_type": "markdown",
   "id": "c4e949fd",
   "metadata": {},
   "source": [
    "### 10분 단위"
   ]
  },
  {
   "cell_type": "code",
   "execution_count": 19,
   "id": "9d15fdb1",
   "metadata": {},
   "outputs": [
    {
     "data": {
      "text/html": [
       "<div>\n",
       "<style scoped>\n",
       "    .dataframe tbody tr th:only-of-type {\n",
       "        vertical-align: middle;\n",
       "    }\n",
       "\n",
       "    .dataframe tbody tr th {\n",
       "        vertical-align: top;\n",
       "    }\n",
       "\n",
       "    .dataframe thead th {\n",
       "        text-align: right;\n",
       "    }\n",
       "</style>\n",
       "<table border=\"1\" class=\"dataframe\">\n",
       "  <thead>\n",
       "    <tr style=\"text-align: right;\">\n",
       "      <th></th>\n",
       "      <th>Open</th>\n",
       "      <th>High</th>\n",
       "      <th>Low</th>\n",
       "      <th>Close</th>\n",
       "      <th>Adj Close</th>\n",
       "      <th>Volume</th>\n",
       "    </tr>\n",
       "    <tr>\n",
       "      <th>Datetime</th>\n",
       "      <th></th>\n",
       "      <th></th>\n",
       "      <th></th>\n",
       "      <th></th>\n",
       "      <th></th>\n",
       "      <th></th>\n",
       "    </tr>\n",
       "  </thead>\n",
       "  <tbody>\n",
       "    <tr>\n",
       "      <th>2022-07-22 09:30:00-04:00</th>\n",
       "      <td>12026.138672</td>\n",
       "      <td>12034.800781</td>\n",
       "      <td>11999.714844</td>\n",
       "      <td>12008.992188</td>\n",
       "      <td>12008.992188</td>\n",
       "      <td>0</td>\n",
       "    </tr>\n",
       "    <tr>\n",
       "      <th>2022-07-22 09:40:00-04:00</th>\n",
       "      <td>12048.524414</td>\n",
       "      <td>12054.207031</td>\n",
       "      <td>12032.867188</td>\n",
       "      <td>12036.447266</td>\n",
       "      <td>12036.447266</td>\n",
       "      <td>85006468</td>\n",
       "    </tr>\n",
       "    <tr>\n",
       "      <th>2022-07-22 09:50:00-04:00</th>\n",
       "      <td>12063.350586</td>\n",
       "      <td>12091.910156</td>\n",
       "      <td>12024.449219</td>\n",
       "      <td>12028.790039</td>\n",
       "      <td>12028.790039</td>\n",
       "      <td>93561053</td>\n",
       "    </tr>\n",
       "    <tr>\n",
       "      <th>2022-07-22 10:00:00-04:00</th>\n",
       "      <td>11991.435547</td>\n",
       "      <td>11992.774414</td>\n",
       "      <td>11966.625977</td>\n",
       "      <td>11980.500977</td>\n",
       "      <td>11980.500977</td>\n",
       "      <td>88399815</td>\n",
       "    </tr>\n",
       "    <tr>\n",
       "      <th>2022-07-22 10:10:00-04:00</th>\n",
       "      <td>11967.275391</td>\n",
       "      <td>12003.221680</td>\n",
       "      <td>11966.099609</td>\n",
       "      <td>11999.540039</td>\n",
       "      <td>11999.540039</td>\n",
       "      <td>63300632</td>\n",
       "    </tr>\n",
       "    <tr>\n",
       "      <th>2022-07-22 10:20:00-04:00</th>\n",
       "      <td>12008.080078</td>\n",
       "      <td>12008.080078</td>\n",
       "      <td>11981.084961</td>\n",
       "      <td>11985.193359</td>\n",
       "      <td>11985.193359</td>\n",
       "      <td>59141000</td>\n",
       "    </tr>\n",
       "    <tr>\n",
       "      <th>2022-07-22 10:30:00-04:00</th>\n",
       "      <td>11989.980469</td>\n",
       "      <td>12003.399414</td>\n",
       "      <td>11980.415039</td>\n",
       "      <td>11981.310547</td>\n",
       "      <td>11981.310547</td>\n",
       "      <td>51337000</td>\n",
       "    </tr>\n",
       "    <tr>\n",
       "      <th>2022-07-22 10:40:00-04:00</th>\n",
       "      <td>11983.631836</td>\n",
       "      <td>11999.302734</td>\n",
       "      <td>11977.608398</td>\n",
       "      <td>11987.026367</td>\n",
       "      <td>11987.026367</td>\n",
       "      <td>47606000</td>\n",
       "    </tr>\n",
       "    <tr>\n",
       "      <th>2022-07-22 10:50:00-04:00</th>\n",
       "      <td>11984.564453</td>\n",
       "      <td>12011.322266</td>\n",
       "      <td>11978.735352</td>\n",
       "      <td>12010.112305</td>\n",
       "      <td>12010.112305</td>\n",
       "      <td>43648000</td>\n",
       "    </tr>\n",
       "    <tr>\n",
       "      <th>2022-07-22 11:00:00-04:00</th>\n",
       "      <td>11988.804688</td>\n",
       "      <td>11990.177734</td>\n",
       "      <td>11949.588867</td>\n",
       "      <td>11949.588867</td>\n",
       "      <td>11949.588867</td>\n",
       "      <td>61235000</td>\n",
       "    </tr>\n",
       "  </tbody>\n",
       "</table>\n",
       "</div>"
      ],
      "text/plain": [
       "                                   Open          High           Low  \\\n",
       "Datetime                                                              \n",
       "2022-07-22 09:30:00-04:00  12026.138672  12034.800781  11999.714844   \n",
       "2022-07-22 09:40:00-04:00  12048.524414  12054.207031  12032.867188   \n",
       "2022-07-22 09:50:00-04:00  12063.350586  12091.910156  12024.449219   \n",
       "2022-07-22 10:00:00-04:00  11991.435547  11992.774414  11966.625977   \n",
       "2022-07-22 10:10:00-04:00  11967.275391  12003.221680  11966.099609   \n",
       "2022-07-22 10:20:00-04:00  12008.080078  12008.080078  11981.084961   \n",
       "2022-07-22 10:30:00-04:00  11989.980469  12003.399414  11980.415039   \n",
       "2022-07-22 10:40:00-04:00  11983.631836  11999.302734  11977.608398   \n",
       "2022-07-22 10:50:00-04:00  11984.564453  12011.322266  11978.735352   \n",
       "2022-07-22 11:00:00-04:00  11988.804688  11990.177734  11949.588867   \n",
       "\n",
       "                                  Close     Adj Close    Volume  \n",
       "Datetime                                                         \n",
       "2022-07-22 09:30:00-04:00  12008.992188  12008.992188         0  \n",
       "2022-07-22 09:40:00-04:00  12036.447266  12036.447266  85006468  \n",
       "2022-07-22 09:50:00-04:00  12028.790039  12028.790039  93561053  \n",
       "2022-07-22 10:00:00-04:00  11980.500977  11980.500977  88399815  \n",
       "2022-07-22 10:10:00-04:00  11999.540039  11999.540039  63300632  \n",
       "2022-07-22 10:20:00-04:00  11985.193359  11985.193359  59141000  \n",
       "2022-07-22 10:30:00-04:00  11981.310547  11981.310547  51337000  \n",
       "2022-07-22 10:40:00-04:00  11987.026367  11987.026367  47606000  \n",
       "2022-07-22 10:50:00-04:00  12010.112305  12010.112305  43648000  \n",
       "2022-07-22 11:00:00-04:00  11949.588867  11949.588867  61235000  "
      ]
     },
     "execution_count": 19,
     "metadata": {},
     "output_type": "execute_result"
    }
   ],
   "source": [
    "nasdaq722 = nasdaq722[0::2]\n",
    "nasdaq722.head(10)"
   ]
  },
  {
   "cell_type": "code",
   "execution_count": 20,
   "id": "de21ef5f",
   "metadata": {},
   "outputs": [
    {
     "data": {
      "text/plain": [
       "<matplotlib.legend.Legend at 0x7fa010b3f940>"
      ]
     },
     "execution_count": 20,
     "metadata": {},
     "output_type": "execute_result"
    },
    {
     "data": {
      "image/png": "[encoded data removed]",
      "text/plain": [
       "<Figure size 432x288 with 1 Axes>"
      ]
     },
     "metadata": {
      "needs_background": "light"
     },
     "output_type": "display_data"
    }
   ],
   "source": [
    "plt.plot(nasdaq722.index, nasdaq722['Close'], 'b', label='nasdaq722')\n",
    "plt.legend(loc='best')"
   ]
  },
  {
   "cell_type": "code",
   "execution_count": 21,
   "id": "743b0d87",
   "metadata": {},
   "outputs": [
    {
     "data": {
      "text/plain": [
       "Datetime\n",
       "2022-07-22 09:30:00-04:00         NaN\n",
       "2022-07-22 09:40:00-04:00    0.228621\n",
       "2022-07-22 09:50:00-04:00   -0.063617\n",
       "2022-07-22 10:00:00-04:00   -0.401446\n",
       "2022-07-22 10:10:00-04:00    0.158917\n",
       "2022-07-22 10:20:00-04:00   -0.119560\n",
       "2022-07-22 10:30:00-04:00   -0.032397\n",
       "2022-07-22 10:40:00-04:00    0.047706\n",
       "2022-07-22 10:50:00-04:00    0.192591\n",
       "2022-07-22 11:00:00-04:00   -0.503937\n",
       "Name: Close, dtype: float64"
      ]
     },
     "execution_count": 21,
     "metadata": {},
     "output_type": "execute_result"
    }
   ],
   "source": [
    "# 10분간 변동률 체크\n",
    "# 분간 변동률 (minute percentage change)\n",
    "nasdaq_mpc = (nasdaq722['Close'] / nasdaq722['Close'].shift(1)-1)*100\n",
    "nasdaq_mpc.head(10)"
   ]
  },
  {
   "cell_type": "code",
   "execution_count": 22,
   "id": "f6e35e82",
   "metadata": {},
   "outputs": [
    {
     "data": {
      "text/plain": [
       "(array([1., 1., 1., 0., 0., 0., 1., 1., 1., 0., 2., 1., 2., 1., 1., 0., 1.,\n",
       "        1., 2., 2.]),\n",
       " array([-0.50393732, -0.46616586, -0.4283944 , -0.39062294, -0.35285148,\n",
       "        -0.31508002, -0.27730856, -0.23953711, -0.20176565, -0.16399419,\n",
       "        -0.12622273, -0.08845127, -0.05067981, -0.01290836,  0.0248631 ,\n",
       "         0.06263456,  0.10040602,  0.13817748,  0.17594894,  0.2137204 ,\n",
       "         0.25149185]),\n",
       " <BarContainer object of 20 artists>)"
      ]
     },
     "execution_count": 22,
     "metadata": {},
     "output_type": "execute_result"
    },
    {
     "data": {
      "image/png": "[encoded data removed]",
      "text/plain": [
       "<Figure size 432x288 with 1 Axes>"
      ]
     },
     "metadata": {
      "needs_background": "light"
     },
     "output_type": "display_data"
    }
   ],
   "source": [
    "nasdaq_mpc[0] = 0\n",
    "plt.hist(nasdaq_mpc, bins = 20)"
   ]
  },
  {
   "cell_type": "markdown",
   "id": "0a795c60",
   "metadata": {},
   "source": [
    "### 엑셀 데이터 불러오기"
   ]
  },
  {
   "cell_type": "code",
   "execution_count": 31,
   "id": "af0dc57c",
   "metadata": {},
   "outputs": [
    {
     "data": {
      "text/html": [
       "<div>\n",
       "<style scoped>\n",
       "    .dataframe tbody tr th:only-of-type {\n",
       "        vertical-align: middle;\n",
       "    }\n",
       "\n",
       "    .dataframe tbody tr th {\n",
       "        vertical-align: top;\n",
       "    }\n",
       "\n",
       "    .dataframe thead th {\n",
       "        text-align: right;\n",
       "    }\n",
       "</style>\n",
       "<table border=\"1\" class=\"dataframe\">\n",
       "  <thead>\n",
       "    <tr style=\"text-align: right;\">\n",
       "      <th></th>\n",
       "      <th>Unnamed: 0</th>\n",
       "      <th>Open</th>\n",
       "      <th>High</th>\n",
       "      <th>Low</th>\n",
       "      <th>Close</th>\n",
       "      <th>Adj Close</th>\n",
       "      <th>Volume</th>\n",
       "    </tr>\n",
       "  </thead>\n",
       "  <tbody>\n",
       "    <tr>\n",
       "      <th>0</th>\n",
       "      <td>2022-07-01 09:30:00-04:00</td>\n",
       "      <td>11013.884766</td>\n",
       "      <td>11019.094727</td>\n",
       "      <td>11012.394531</td>\n",
       "      <td>11019.053711</td>\n",
       "      <td>11019.053711</td>\n",
       "      <td>0.0</td>\n",
       "    </tr>\n",
       "    <tr>\n",
       "      <th>1</th>\n",
       "      <td>2022-07-01 09:31:00-04:00</td>\n",
       "      <td>11020.430664</td>\n",
       "      <td>11028.205078</td>\n",
       "      <td>11001.552734</td>\n",
       "      <td>11001.552734</td>\n",
       "      <td>11001.552734</td>\n",
       "      <td>27766287.0</td>\n",
       "    </tr>\n",
       "    <tr>\n",
       "      <th>2</th>\n",
       "      <td>2022-07-01 09:32:00-04:00</td>\n",
       "      <td>10998.352539</td>\n",
       "      <td>10998.352539</td>\n",
       "      <td>10988.350586</td>\n",
       "      <td>10988.350586</td>\n",
       "      <td>10988.350586</td>\n",
       "      <td>14381300.0</td>\n",
       "    </tr>\n",
       "    <tr>\n",
       "      <th>3</th>\n",
       "      <td>2022-07-01 09:33:00-04:00</td>\n",
       "      <td>11002.128906</td>\n",
       "      <td>11013.143555</td>\n",
       "      <td>10997.853516</td>\n",
       "      <td>11009.372070</td>\n",
       "      <td>11009.372070</td>\n",
       "      <td>35141796.0</td>\n",
       "    </tr>\n",
       "    <tr>\n",
       "      <th>4</th>\n",
       "      <td>2022-07-01 09:34:00-04:00</td>\n",
       "      <td>11002.797852</td>\n",
       "      <td>11002.797852</td>\n",
       "      <td>10979.359375</td>\n",
       "      <td>10986.404297</td>\n",
       "      <td>10986.404297</td>\n",
       "      <td>19670677.0</td>\n",
       "    </tr>\n",
       "    <tr>\n",
       "      <th>...</th>\n",
       "      <td>...</td>\n",
       "      <td>...</td>\n",
       "      <td>...</td>\n",
       "      <td>...</td>\n",
       "      <td>...</td>\n",
       "      <td>...</td>\n",
       "      <td>...</td>\n",
       "    </tr>\n",
       "    <tr>\n",
       "      <th>385</th>\n",
       "      <td>2022-07-01 15:55:00-04:00</td>\n",
       "      <td>11113.138672</td>\n",
       "      <td>11117.932617</td>\n",
       "      <td>11111.833984</td>\n",
       "      <td>11113.457031</td>\n",
       "      <td>11113.457031</td>\n",
       "      <td>22477000.0</td>\n",
       "    </tr>\n",
       "    <tr>\n",
       "      <th>386</th>\n",
       "      <td>2022-07-01 15:56:00-04:00</td>\n",
       "      <td>11115.080078</td>\n",
       "      <td>11119.216797</td>\n",
       "      <td>11114.087891</td>\n",
       "      <td>11114.211914</td>\n",
       "      <td>11114.211914</td>\n",
       "      <td>29307000.0</td>\n",
       "    </tr>\n",
       "    <tr>\n",
       "      <th>387</th>\n",
       "      <td>2022-07-01 15:57:00-04:00</td>\n",
       "      <td>11114.731445</td>\n",
       "      <td>11116.937500</td>\n",
       "      <td>11112.577148</td>\n",
       "      <td>11112.577148</td>\n",
       "      <td>11112.577148</td>\n",
       "      <td>24695000.0</td>\n",
       "    </tr>\n",
       "    <tr>\n",
       "      <th>388</th>\n",
       "      <td>2022-07-01 15:58:00-04:00</td>\n",
       "      <td>11115.313477</td>\n",
       "      <td>11123.803711</td>\n",
       "      <td>11115.313477</td>\n",
       "      <td>11120.148438</td>\n",
       "      <td>11120.148438</td>\n",
       "      <td>22465000.0</td>\n",
       "    </tr>\n",
       "    <tr>\n",
       "      <th>389</th>\n",
       "      <td>2022-07-01 15:59:00-04:00</td>\n",
       "      <td>11121.605469</td>\n",
       "      <td>11130.224609</td>\n",
       "      <td>11117.672852</td>\n",
       "      <td>11130.224609</td>\n",
       "      <td>11130.224609</td>\n",
       "      <td>25017000.0</td>\n",
       "    </tr>\n",
       "  </tbody>\n",
       "</table>\n",
       "<p>390 rows × 7 columns</p>\n",
       "</div>"
      ],
      "text/plain": [
       "                    Unnamed: 0          Open          High           Low  \\\n",
       "0    2022-07-01 09:30:00-04:00  11013.884766  11019.094727  11012.394531   \n",
       "1    2022-07-01 09:31:00-04:00  11020.430664  11028.205078  11001.552734   \n",
       "2    2022-07-01 09:32:00-04:00  10998.352539  10998.352539  10988.350586   \n",
       "3    2022-07-01 09:33:00-04:00  11002.128906  11013.143555  10997.853516   \n",
       "4    2022-07-01 09:34:00-04:00  11002.797852  11002.797852  10979.359375   \n",
       "..                         ...           ...           ...           ...   \n",
       "385  2022-07-01 15:55:00-04:00  11113.138672  11117.932617  11111.833984   \n",
       "386  2022-07-01 15:56:00-04:00  11115.080078  11119.216797  11114.087891   \n",
       "387  2022-07-01 15:57:00-04:00  11114.731445  11116.937500  11112.577148   \n",
       "388  2022-07-01 15:58:00-04:00  11115.313477  11123.803711  11115.313477   \n",
       "389  2022-07-01 15:59:00-04:00  11121.605469  11130.224609  11117.672852   \n",
       "\n",
       "            Close     Adj Close      Volume  \n",
       "0    11019.053711  11019.053711         0.0  \n",
       "1    11001.552734  11001.552734  27766287.0  \n",
       "2    10988.350586  10988.350586  14381300.0  \n",
       "3    11009.372070  11009.372070  35141796.0  \n",
       "4    10986.404297  10986.404297  19670677.0  \n",
       "..            ...           ...         ...  \n",
       "385  11113.457031  11113.457031  22477000.0  \n",
       "386  11114.211914  11114.211914  29307000.0  \n",
       "387  11112.577148  11112.577148  24695000.0  \n",
       "388  11120.148438  11120.148438  22465000.0  \n",
       "389  11130.224609  11130.224609  25017000.0  \n",
       "\n",
       "[390 rows x 7 columns]"
      ]
     },
     "execution_count": 31,
     "metadata": {},
     "output_type": "execute_result"
    }
   ],
   "source": [
    "nasdaq_0702 = pd.read_csv('./YfinanceData/nasdaq_2022-07-01.csv')\n",
    "nasdaq_0702"
   ]
  },
  {
   "cell_type": "code",
   "execution_count": null,
   "id": "b8371304",
   "metadata": {},
   "outputs": [],
   "source": []
  }
 ],
 "metadata": {
  "kernelspec": {
   "display_name": "Python 3 (ipykernel)",
   "language": "python",
   "name": "python3"
  },
  "language_info": {
   "codemirror_mode": {
    "name": "ipython",
    "version": 3
   },
   "file_extension": ".py",
   "mimetype": "text/x-python",
   "name": "python",
   "nbconvert_exporter": "python",
   "pygments_lexer": "ipython3",
   "version": "3.9.7"
  }
 },
 "nbformat": 4,
 "nbformat_minor": 5
}
