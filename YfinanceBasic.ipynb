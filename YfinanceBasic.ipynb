{
 "cells": [
  {
   "cell_type": "code",
   "execution_count": 2,
   "id": "7fab49f1",
   "metadata": {},
   "outputs": [],
   "source": [
    "from pandas_datareader import data as pdr\n",
    "import yfinance as yf\n",
    "%matplotlib inline\n",
    "import matplotlib.pyplot as plt\n",
    "from datetime import datetime, timedelta\n",
    "import pandas as pd"
   ]
  },
  {
   "cell_type": "code",
   "execution_count": 4,
   "id": "8b5945d9",
   "metadata": {},
   "outputs": [],
   "source": [
    "# 데이터 불러오기\n",
    "yf.pdr_override()"
   ]
  },
  {
   "cell_type": "code",
   "execution_count": 5,
   "id": "5b106750",
   "metadata": {},
   "outputs": [
    {
     "name": "stdout",
     "output_type": "stream",
     "text": [
      "[*********************100%***********************]  1 of 1 completed\n"
     ]
    },
    {
     "data": {
      "text/html": [
       "<div>\n",
       "<style scoped>\n",
       "    .dataframe tbody tr th:only-of-type {\n",
       "        vertical-align: middle;\n",
       "    }\n",
       "\n",
       "    .dataframe tbody tr th {\n",
       "        vertical-align: top;\n",
       "    }\n",
       "\n",
       "    .dataframe thead th {\n",
       "        text-align: right;\n",
       "    }\n",
       "</style>\n",
       "<table border=\"1\" class=\"dataframe\">\n",
       "  <thead>\n",
       "    <tr style=\"text-align: right;\">\n",
       "      <th></th>\n",
       "      <th>Open</th>\n",
       "      <th>High</th>\n",
       "      <th>Low</th>\n",
       "      <th>Close</th>\n",
       "      <th>Adj Close</th>\n",
       "      <th>Volume</th>\n",
       "    </tr>\n",
       "    <tr>\n",
       "      <th>Date</th>\n",
       "      <th></th>\n",
       "      <th></th>\n",
       "      <th></th>\n",
       "      <th></th>\n",
       "      <th></th>\n",
       "      <th></th>\n",
       "    </tr>\n",
       "  </thead>\n",
       "  <tbody>\n",
       "    <tr>\n",
       "      <th>2021-12-31</th>\n",
       "      <td>15722.910156</td>\n",
       "      <td>15777.429688</td>\n",
       "      <td>15643.940430</td>\n",
       "      <td>15644.969727</td>\n",
       "      <td>15644.969727</td>\n",
       "      <td>3379850000</td>\n",
       "    </tr>\n",
       "    <tr>\n",
       "      <th>2022-01-03</th>\n",
       "      <td>15732.500000</td>\n",
       "      <td>15832.799805</td>\n",
       "      <td>15644.089844</td>\n",
       "      <td>15832.799805</td>\n",
       "      <td>15832.799805</td>\n",
       "      <td>4412130000</td>\n",
       "    </tr>\n",
       "    <tr>\n",
       "      <th>2022-01-04</th>\n",
       "      <td>15852.139648</td>\n",
       "      <td>15852.139648</td>\n",
       "      <td>15512.410156</td>\n",
       "      <td>15622.719727</td>\n",
       "      <td>15622.719727</td>\n",
       "      <td>5109270000</td>\n",
       "    </tr>\n",
       "    <tr>\n",
       "      <th>2022-01-05</th>\n",
       "      <td>15547.160156</td>\n",
       "      <td>15586.299805</td>\n",
       "      <td>15095.179688</td>\n",
       "      <td>15100.169922</td>\n",
       "      <td>15100.169922</td>\n",
       "      <td>5011990000</td>\n",
       "    </tr>\n",
       "    <tr>\n",
       "      <th>2022-01-06</th>\n",
       "      <td>15024.150391</td>\n",
       "      <td>15198.450195</td>\n",
       "      <td>14914.870117</td>\n",
       "      <td>15080.860352</td>\n",
       "      <td>15080.860352</td>\n",
       "      <td>4774740000</td>\n",
       "    </tr>\n",
       "    <tr>\n",
       "      <th>2022-01-07</th>\n",
       "      <td>15095.719727</td>\n",
       "      <td>15171.019531</td>\n",
       "      <td>14877.629883</td>\n",
       "      <td>14935.900391</td>\n",
       "      <td>14935.900391</td>\n",
       "      <td>4229270000</td>\n",
       "    </tr>\n",
       "    <tr>\n",
       "      <th>2022-01-10</th>\n",
       "      <td>14751.780273</td>\n",
       "      <td>14953.849609</td>\n",
       "      <td>14530.230469</td>\n",
       "      <td>14942.830078</td>\n",
       "      <td>14942.830078</td>\n",
       "      <td>5303230000</td>\n",
       "    </tr>\n",
       "    <tr>\n",
       "      <th>2022-01-11</th>\n",
       "      <td>14919.259766</td>\n",
       "      <td>15158.709961</td>\n",
       "      <td>14837.629883</td>\n",
       "      <td>15153.450195</td>\n",
       "      <td>15153.450195</td>\n",
       "      <td>4378660000</td>\n",
       "    </tr>\n",
       "    <tr>\n",
       "      <th>2022-01-12</th>\n",
       "      <td>15263.099609</td>\n",
       "      <td>15319.030273</td>\n",
       "      <td>15117.290039</td>\n",
       "      <td>15188.389648</td>\n",
       "      <td>15188.389648</td>\n",
       "      <td>4321180000</td>\n",
       "    </tr>\n",
       "    <tr>\n",
       "      <th>2022-01-13</th>\n",
       "      <td>15245.040039</td>\n",
       "      <td>15259.709961</td>\n",
       "      <td>14782.240234</td>\n",
       "      <td>14806.809570</td>\n",
       "      <td>14806.809570</td>\n",
       "      <td>4283070000</td>\n",
       "    </tr>\n",
       "  </tbody>\n",
       "</table>\n",
       "</div>"
      ],
      "text/plain": [
       "                    Open          High           Low         Close  \\\n",
       "Date                                                                 \n",
       "2021-12-31  15722.910156  15777.429688  15643.940430  15644.969727   \n",
       "2022-01-03  15732.500000  15832.799805  15644.089844  15832.799805   \n",
       "2022-01-04  15852.139648  15852.139648  15512.410156  15622.719727   \n",
       "2022-01-05  15547.160156  15586.299805  15095.179688  15100.169922   \n",
       "2022-01-06  15024.150391  15198.450195  14914.870117  15080.860352   \n",
       "2022-01-07  15095.719727  15171.019531  14877.629883  14935.900391   \n",
       "2022-01-10  14751.780273  14953.849609  14530.230469  14942.830078   \n",
       "2022-01-11  14919.259766  15158.709961  14837.629883  15153.450195   \n",
       "2022-01-12  15263.099609  15319.030273  15117.290039  15188.389648   \n",
       "2022-01-13  15245.040039  15259.709961  14782.240234  14806.809570   \n",
       "\n",
       "               Adj Close      Volume  \n",
       "Date                                  \n",
       "2021-12-31  15644.969727  3379850000  \n",
       "2022-01-03  15832.799805  4412130000  \n",
       "2022-01-04  15622.719727  5109270000  \n",
       "2022-01-05  15100.169922  5011990000  \n",
       "2022-01-06  15080.860352  4774740000  \n",
       "2022-01-07  14935.900391  4229270000  \n",
       "2022-01-10  14942.830078  5303230000  \n",
       "2022-01-11  15153.450195  4378660000  \n",
       "2022-01-12  15188.389648  4321180000  \n",
       "2022-01-13  14806.809570  4283070000  "
      ]
     },
     "execution_count": 5,
     "metadata": {},
     "output_type": "execute_result"
    }
   ],
   "source": [
    "# 나스닥 지수 심볼 IXIC\n",
    "nasdaq = pdr.get_data_yahoo('^IXIC', start='2022-01-01')\n",
    "nasdaq.head(10)"
   ]
  },
  {
   "cell_type": "code",
   "execution_count": 6,
   "id": "8eeb83ce",
   "metadata": {},
   "outputs": [
    {
     "data": {
      "text/plain": [
       "DatetimeIndex(['2021-12-31', '2022-01-03', '2022-01-04', '2022-01-05',\n",
       "               '2022-01-06', '2022-01-07', '2022-01-10', '2022-01-11',\n",
       "               '2022-01-12', '2022-01-13',\n",
       "               ...\n",
       "               '2022-07-21', '2022-07-22', '2022-07-25', '2022-07-26',\n",
       "               '2022-07-27', '2022-07-28', '2022-07-29', '2022-08-01',\n",
       "               '2022-08-02', '2022-08-03'],\n",
       "              dtype='datetime64[ns]', name='Date', length=148, freq=None)"
      ]
     },
     "execution_count": 6,
     "metadata": {},
     "output_type": "execute_result"
    }
   ],
   "source": [
    "# nasdaq Datatime 1971-02-05 ~ 2022-07-21\n",
    "nasdaq.index"
   ]
  },
  {
   "cell_type": "code",
   "execution_count": 7,
   "id": "770bd052",
   "metadata": {},
   "outputs": [
    {
     "data": {
      "text/plain": [
       "Index(['Open', 'High', 'Low', 'Close', 'Adj Close', 'Volume'], dtype='object')"
      ]
     },
     "execution_count": 7,
     "metadata": {},
     "output_type": "execute_result"
    }
   ],
   "source": [
    "# 시가 고가 저가 종가 \n",
    "nasdaq.columns"
   ]
  },
  {
   "cell_type": "code",
   "execution_count": 8,
   "id": "a97747a5",
   "metadata": {},
   "outputs": [
    {
     "data": {
      "image/png": "[encoded data removed]",
      "text/plain": [
       "<Figure size 432x288 with 1 Axes>"
      ]
     },
     "metadata": {
      "needs_background": "light"
     },
     "output_type": "display_data"
    }
   ],
   "source": [
    "# 그래프 그리기\n",
    "plt.plot(nasdaq.index, nasdaq.Close, 'b', label='NASDAQ')\n",
    "plt.legend(loc='best')\n",
    "plt.show()"
   ]
  },
  {
   "cell_type": "markdown",
   "id": "4fd17040",
   "metadata": {},
   "source": [
    "### 일간 변동률"
   ]
  },
  {
   "cell_type": "code",
   "execution_count": 9,
   "id": "c41b99e3",
   "metadata": {},
   "outputs": [
    {
     "data": {
      "text/plain": [
       "Date\n",
       "2021-12-31         NaN\n",
       "2022-01-03    1.200578\n",
       "2022-01-04   -1.326866\n",
       "2022-01-05   -3.344807\n",
       "2022-01-06   -0.127877\n",
       "2022-01-07   -0.961218\n",
       "2022-01-10    0.046396\n",
       "2022-01-11    1.409506\n",
       "2022-01-12    0.230571\n",
       "2022-01-13   -2.512314\n",
       "Name: Close, dtype: float64"
      ]
     },
     "execution_count": 9,
     "metadata": {},
     "output_type": "execute_result"
    }
   ],
   "source": [
    "# 일간 변동률 (data percentage change)\n",
    "nasdaq_dpc = (nasdaq['Close'] / nasdaq['Close'].shift(1)-1)*100\n",
    "nasdaq_dpc.head(10)"
   ]
  },
  {
   "cell_type": "code",
   "execution_count": 10,
   "id": "48d6a621",
   "metadata": {},
   "outputs": [],
   "source": [
    "# 첫 번째 데이터 NaN -> 0\n",
    "nasdaq_dpc.iloc[0] = 0"
   ]
  },
  {
   "cell_type": "code",
   "execution_count": 11,
   "id": "c66668be",
   "metadata": {},
   "outputs": [
    {
     "data": {
      "image/png": "[encoded data removed]",
      "text/plain": [
       "<Figure size 432x288 with 1 Axes>"
      ]
     },
     "metadata": {
      "needs_background": "light"
     },
     "output_type": "display_data"
    }
   ],
   "source": [
    "plt.bar(nasdaq_dpc.index,nasdaq_dpc, label='NASDAQ_DPC')\n",
    "plt.legend(loc='best')\n",
    "plt.show()"
   ]
  },
  {
   "cell_type": "code",
   "execution_count": 12,
   "id": "a46b0b3c",
   "metadata": {},
   "outputs": [
    {
     "data": {
      "image/png": "[encoded data removed]",
      "text/plain": [
       "<Figure size 432x288 with 1 Axes>"
      ]
     },
     "metadata": {
      "needs_background": "light"
     },
     "output_type": "display_data"
    }
   ],
   "source": [
    "# 일간 변동률 분포 확인\n",
    "# bins 는 x 축 구간 개수\n",
    "plt.hist(nasdaq_dpc, bins=18)\n",
    "plt.grid(True) # 격자 생성\n",
    "plt.show()"
   ]
  },
  {
   "cell_type": "code",
   "execution_count": 13,
   "id": "e1c43f6e",
   "metadata": {},
   "outputs": [
    {
     "data": {
      "text/plain": [
       "-17.821906926366967"
      ]
     },
     "execution_count": 13,
     "metadata": {},
     "output_type": "execute_result"
    }
   ],
   "source": [
    "# 일간 변동률 누적합 구하기\n",
    "nasdaq_dpc_cs = nasdaq_dpc.cumsum()\n",
    "nasdaq_dpc_cs[-1]"
   ]
  },
  {
   "cell_type": "markdown",
   "id": "1e2bb07b",
   "metadata": {},
   "source": [
    "## 나스닥 시간별 데이터 불러오기"
   ]
  },
  {
   "cell_type": "markdown",
   "id": "7cfd5f63",
   "metadata": {},
   "source": [
    "### 1분 단위"
   ]
  },
  {
   "cell_type": "code",
   "execution_count": 14,
   "id": "703066b3",
   "metadata": {},
   "outputs": [
    {
     "name": "stdout",
     "output_type": "stream",
     "text": [
      "[*********************100%***********************]  1 of 1 completed\n"
     ]
    },
    {
     "data": {
      "text/html": [
       "<div>\n",
       "<style scoped>\n",
       "    .dataframe tbody tr th:only-of-type {\n",
       "        vertical-align: middle;\n",
       "    }\n",
       "\n",
       "    .dataframe tbody tr th {\n",
       "        vertical-align: top;\n",
       "    }\n",
       "\n",
       "    .dataframe thead th {\n",
       "        text-align: right;\n",
       "    }\n",
       "</style>\n",
       "<table border=\"1\" class=\"dataframe\">\n",
       "  <thead>\n",
       "    <tr style=\"text-align: right;\">\n",
       "      <th></th>\n",
       "      <th>Open</th>\n",
       "      <th>High</th>\n",
       "      <th>Low</th>\n",
       "      <th>Close</th>\n",
       "      <th>Adj Close</th>\n",
       "      <th>Volume</th>\n",
       "    </tr>\n",
       "    <tr>\n",
       "      <th>Datetime</th>\n",
       "      <th></th>\n",
       "      <th></th>\n",
       "      <th></th>\n",
       "      <th></th>\n",
       "      <th></th>\n",
       "      <th></th>\n",
       "    </tr>\n",
       "  </thead>\n",
       "  <tbody>\n",
       "    <tr>\n",
       "      <th>2022-07-26 09:30:00-04:00</th>\n",
       "      <td>11709.730469</td>\n",
       "      <td>11709.730469</td>\n",
       "      <td>11702.061523</td>\n",
       "      <td>11702.739258</td>\n",
       "      <td>11702.739258</td>\n",
       "      <td>0</td>\n",
       "    </tr>\n",
       "    <tr>\n",
       "      <th>2022-07-26 09:31:00-04:00</th>\n",
       "      <td>11701.880859</td>\n",
       "      <td>11701.880859</td>\n",
       "      <td>11679.505859</td>\n",
       "      <td>11694.527344</td>\n",
       "      <td>11694.527344</td>\n",
       "      <td>22936395</td>\n",
       "    </tr>\n",
       "    <tr>\n",
       "      <th>2022-07-26 09:32:00-04:00</th>\n",
       "      <td>11694.821289</td>\n",
       "      <td>11694.821289</td>\n",
       "      <td>11672.938477</td>\n",
       "      <td>11675.917969</td>\n",
       "      <td>11675.917969</td>\n",
       "      <td>20631126</td>\n",
       "    </tr>\n",
       "    <tr>\n",
       "      <th>2022-07-26 09:33:00-04:00</th>\n",
       "      <td>11668.676758</td>\n",
       "      <td>11670.966797</td>\n",
       "      <td>11662.475586</td>\n",
       "      <td>11664.377930</td>\n",
       "      <td>11664.377930</td>\n",
       "      <td>19174035</td>\n",
       "    </tr>\n",
       "    <tr>\n",
       "      <th>2022-07-26 09:34:00-04:00</th>\n",
       "      <td>11663.030273</td>\n",
       "      <td>11666.687500</td>\n",
       "      <td>11657.080078</td>\n",
       "      <td>11657.080078</td>\n",
       "      <td>11657.080078</td>\n",
       "      <td>20117439</td>\n",
       "    </tr>\n",
       "    <tr>\n",
       "      <th>2022-07-26 09:35:00-04:00</th>\n",
       "      <td>11647.515625</td>\n",
       "      <td>11661.674805</td>\n",
       "      <td>11644.391602</td>\n",
       "      <td>11659.262695</td>\n",
       "      <td>11659.262695</td>\n",
       "      <td>20910289</td>\n",
       "    </tr>\n",
       "    <tr>\n",
       "      <th>2022-07-26 09:36:00-04:00</th>\n",
       "      <td>11657.820312</td>\n",
       "      <td>11661.752930</td>\n",
       "      <td>11649.443359</td>\n",
       "      <td>11653.544922</td>\n",
       "      <td>11653.544922</td>\n",
       "      <td>18865141</td>\n",
       "    </tr>\n",
       "    <tr>\n",
       "      <th>2022-07-26 09:37:00-04:00</th>\n",
       "      <td>11654.542969</td>\n",
       "      <td>11663.792969</td>\n",
       "      <td>11654.542969</td>\n",
       "      <td>11660.384766</td>\n",
       "      <td>11660.384766</td>\n",
       "      <td>18279373</td>\n",
       "    </tr>\n",
       "    <tr>\n",
       "      <th>2022-07-26 09:38:00-04:00</th>\n",
       "      <td>11658.995117</td>\n",
       "      <td>11669.192383</td>\n",
       "      <td>11658.995117</td>\n",
       "      <td>11660.615234</td>\n",
       "      <td>11660.615234</td>\n",
       "      <td>17484932</td>\n",
       "    </tr>\n",
       "    <tr>\n",
       "      <th>2022-07-26 09:39:00-04:00</th>\n",
       "      <td>11658.856445</td>\n",
       "      <td>11665.792969</td>\n",
       "      <td>11657.164062</td>\n",
       "      <td>11665.792969</td>\n",
       "      <td>11665.792969</td>\n",
       "      <td>19730494</td>\n",
       "    </tr>\n",
       "  </tbody>\n",
       "</table>\n",
       "</div>"
      ],
      "text/plain": [
       "                                   Open          High           Low  \\\n",
       "Datetime                                                              \n",
       "2022-07-26 09:30:00-04:00  11709.730469  11709.730469  11702.061523   \n",
       "2022-07-26 09:31:00-04:00  11701.880859  11701.880859  11679.505859   \n",
       "2022-07-26 09:32:00-04:00  11694.821289  11694.821289  11672.938477   \n",
       "2022-07-26 09:33:00-04:00  11668.676758  11670.966797  11662.475586   \n",
       "2022-07-26 09:34:00-04:00  11663.030273  11666.687500  11657.080078   \n",
       "2022-07-26 09:35:00-04:00  11647.515625  11661.674805  11644.391602   \n",
       "2022-07-26 09:36:00-04:00  11657.820312  11661.752930  11649.443359   \n",
       "2022-07-26 09:37:00-04:00  11654.542969  11663.792969  11654.542969   \n",
       "2022-07-26 09:38:00-04:00  11658.995117  11669.192383  11658.995117   \n",
       "2022-07-26 09:39:00-04:00  11658.856445  11665.792969  11657.164062   \n",
       "\n",
       "                                  Close     Adj Close    Volume  \n",
       "Datetime                                                         \n",
       "2022-07-26 09:30:00-04:00  11702.739258  11702.739258         0  \n",
       "2022-07-26 09:31:00-04:00  11694.527344  11694.527344  22936395  \n",
       "2022-07-26 09:32:00-04:00  11675.917969  11675.917969  20631126  \n",
       "2022-07-26 09:33:00-04:00  11664.377930  11664.377930  19174035  \n",
       "2022-07-26 09:34:00-04:00  11657.080078  11657.080078  20117439  \n",
       "2022-07-26 09:35:00-04:00  11659.262695  11659.262695  20910289  \n",
       "2022-07-26 09:36:00-04:00  11653.544922  11653.544922  18865141  \n",
       "2022-07-26 09:37:00-04:00  11660.384766  11660.384766  18279373  \n",
       "2022-07-26 09:38:00-04:00  11660.615234  11660.615234  17484932  \n",
       "2022-07-26 09:39:00-04:00  11665.792969  11665.792969  19730494  "
      ]
     },
     "execution_count": 14,
     "metadata": {},
     "output_type": "execute_result"
    }
   ],
   "source": [
    "#1분 단위\n",
    "nasdaq = yf.download(tickers='^IXIC', period='7d', interval='1m')\n",
    "nasdaq.head(10)"
   ]
  },
  {
   "cell_type": "code",
   "execution_count": 15,
   "id": "3410e389",
   "metadata": {},
   "outputs": [
    {
     "name": "stderr",
     "output_type": "stream",
     "text": [
      "C:\\Users\\JUNGSU~1\\AppData\\Local\\Temp/ipykernel_15872/2759730534.py:3: FutureWarning: Indexing a timezone-aware DatetimeIndex with a timezone-naive datetime is deprecated and will raise KeyError in a future version.  Use a timezone-aware object instead.\n",
      "  nasdaq722 = nasdaq[start: end]\n"
     ]
    },
    {
     "data": {
      "text/html": [
       "<div>\n",
       "<style scoped>\n",
       "    .dataframe tbody tr th:only-of-type {\n",
       "        vertical-align: middle;\n",
       "    }\n",
       "\n",
       "    .dataframe tbody tr th {\n",
       "        vertical-align: top;\n",
       "    }\n",
       "\n",
       "    .dataframe thead th {\n",
       "        text-align: right;\n",
       "    }\n",
       "</style>\n",
       "<table border=\"1\" class=\"dataframe\">\n",
       "  <thead>\n",
       "    <tr style=\"text-align: right;\">\n",
       "      <th></th>\n",
       "      <th>Open</th>\n",
       "      <th>High</th>\n",
       "      <th>Low</th>\n",
       "      <th>Close</th>\n",
       "      <th>Adj Close</th>\n",
       "      <th>Volume</th>\n",
       "    </tr>\n",
       "    <tr>\n",
       "      <th>Datetime</th>\n",
       "      <th></th>\n",
       "      <th></th>\n",
       "      <th></th>\n",
       "      <th></th>\n",
       "      <th></th>\n",
       "      <th></th>\n",
       "    </tr>\n",
       "  </thead>\n",
       "  <tbody>\n",
       "  </tbody>\n",
       "</table>\n",
       "</div>"
      ],
      "text/plain": [
       "Empty DataFrame\n",
       "Columns: [Open, High, Low, Close, Adj Close, Volume]\n",
       "Index: []"
      ]
     },
     "execution_count": 15,
     "metadata": {},
     "output_type": "execute_result"
    }
   ],
   "source": [
    "start = datetime(2022, 7, 22, 9, 30, 0)\n",
    "end = datetime(2022, 7, 22, 12, 31, 0)\n",
    "nasdaq722 = nasdaq[start: end]\n",
    "nasdaq722[1:]"
   ]
  },
  {
   "cell_type": "code",
   "execution_count": 16,
   "id": "3b11c7f8",
   "metadata": {},
   "outputs": [
    {
     "data": {
      "text/plain": [
       "[<matplotlib.lines.Line2D at 0x1b058bf8f70>]"
      ]
     },
     "execution_count": 16,
     "metadata": {},
     "output_type": "execute_result"
    },
    {
     "data": {
      "image/png": "[encoded data removed]",
      "text/plain": [
       "<Figure size 432x288 with 1 Axes>"
      ]
     },
     "metadata": {
      "needs_background": "light"
     },
     "output_type": "display_data"
    }
   ],
   "source": [
    "plt.plot(nasdaq722.index, nasdaq722['Close'], 'b', label='nasdaq722')"
   ]
  },
  {
   "cell_type": "markdown",
   "id": "30f59dc0",
   "metadata": {},
   "source": [
    "### 5분 단위"
   ]
  },
  {
   "cell_type": "code",
   "execution_count": 17,
   "id": "38b4ca66",
   "metadata": {},
   "outputs": [
    {
     "name": "stdout",
     "output_type": "stream",
     "text": [
      "[*********************100%***********************]  1 of 1 completed\n"
     ]
    },
    {
     "data": {
      "text/html": [
       "<div>\n",
       "<style scoped>\n",
       "    .dataframe tbody tr th:only-of-type {\n",
       "        vertical-align: middle;\n",
       "    }\n",
       "\n",
       "    .dataframe tbody tr th {\n",
       "        vertical-align: top;\n",
       "    }\n",
       "\n",
       "    .dataframe thead th {\n",
       "        text-align: right;\n",
       "    }\n",
       "</style>\n",
       "<table border=\"1\" class=\"dataframe\">\n",
       "  <thead>\n",
       "    <tr style=\"text-align: right;\">\n",
       "      <th></th>\n",
       "      <th>Open</th>\n",
       "      <th>High</th>\n",
       "      <th>Low</th>\n",
       "      <th>Close</th>\n",
       "      <th>Adj Close</th>\n",
       "      <th>Volume</th>\n",
       "    </tr>\n",
       "    <tr>\n",
       "      <th>Datetime</th>\n",
       "      <th></th>\n",
       "      <th></th>\n",
       "      <th></th>\n",
       "      <th></th>\n",
       "      <th></th>\n",
       "      <th></th>\n",
       "    </tr>\n",
       "  </thead>\n",
       "  <tbody>\n",
       "    <tr>\n",
       "      <th>2022-07-26 09:30:00-04:00</th>\n",
       "      <td>11709.730469</td>\n",
       "      <td>11709.730469</td>\n",
       "      <td>11657.080078</td>\n",
       "      <td>11657.080078</td>\n",
       "      <td>11657.080078</td>\n",
       "      <td>0</td>\n",
       "    </tr>\n",
       "    <tr>\n",
       "      <th>2022-07-26 09:35:00-04:00</th>\n",
       "      <td>11647.515625</td>\n",
       "      <td>11669.192383</td>\n",
       "      <td>11644.391602</td>\n",
       "      <td>11665.792969</td>\n",
       "      <td>11665.792969</td>\n",
       "      <td>95270229</td>\n",
       "    </tr>\n",
       "    <tr>\n",
       "      <th>2022-07-26 09:40:00-04:00</th>\n",
       "      <td>11667.491211</td>\n",
       "      <td>11676.458984</td>\n",
       "      <td>11652.702148</td>\n",
       "      <td>11656.274414</td>\n",
       "      <td>11656.274414</td>\n",
       "      <td>80864233</td>\n",
       "    </tr>\n",
       "    <tr>\n",
       "      <th>2022-07-26 09:45:00-04:00</th>\n",
       "      <td>11650.704102</td>\n",
       "      <td>11650.704102</td>\n",
       "      <td>11631.720703</td>\n",
       "      <td>11644.848633</td>\n",
       "      <td>11644.848633</td>\n",
       "      <td>80246538</td>\n",
       "    </tr>\n",
       "    <tr>\n",
       "      <th>2022-07-26 09:50:00-04:00</th>\n",
       "      <td>11648.631836</td>\n",
       "      <td>11669.672852</td>\n",
       "      <td>11648.631836</td>\n",
       "      <td>11662.562500</td>\n",
       "      <td>11662.562500</td>\n",
       "      <td>74294682</td>\n",
       "    </tr>\n",
       "  </tbody>\n",
       "</table>\n",
       "</div>"
      ],
      "text/plain": [
       "                                   Open          High           Low  \\\n",
       "Datetime                                                              \n",
       "2022-07-26 09:30:00-04:00  11709.730469  11709.730469  11657.080078   \n",
       "2022-07-26 09:35:00-04:00  11647.515625  11669.192383  11644.391602   \n",
       "2022-07-26 09:40:00-04:00  11667.491211  11676.458984  11652.702148   \n",
       "2022-07-26 09:45:00-04:00  11650.704102  11650.704102  11631.720703   \n",
       "2022-07-26 09:50:00-04:00  11648.631836  11669.672852  11648.631836   \n",
       "\n",
       "                                  Close     Adj Close    Volume  \n",
       "Datetime                                                         \n",
       "2022-07-26 09:30:00-04:00  11657.080078  11657.080078         0  \n",
       "2022-07-26 09:35:00-04:00  11665.792969  11665.792969  95270229  \n",
       "2022-07-26 09:40:00-04:00  11656.274414  11656.274414  80864233  \n",
       "2022-07-26 09:45:00-04:00  11644.848633  11644.848633  80246538  \n",
       "2022-07-26 09:50:00-04:00  11662.562500  11662.562500  74294682  "
      ]
     },
     "execution_count": 17,
     "metadata": {},
     "output_type": "execute_result"
    }
   ],
   "source": [
    "#5분 단위\n",
    "nasdaq = yf.download(tickers='^IXIC', period='7d', interval='5m')\n",
    "nasdaq.head()"
   ]
  },
  {
   "cell_type": "code",
   "execution_count": 18,
   "id": "d084b0b3",
   "metadata": {},
   "outputs": [
    {
     "name": "stderr",
     "output_type": "stream",
     "text": [
      "C:\\Users\\JUNGSU~1\\AppData\\Local\\Temp/ipykernel_15872/3884773329.py:3: FutureWarning: Indexing a timezone-aware DatetimeIndex with a timezone-naive datetime is deprecated and will raise KeyError in a future version.  Use a timezone-aware object instead.\n",
      "  nasdaq722 = nasdaq[start: end]\n"
     ]
    },
    {
     "data": {
      "text/html": [
       "<div>\n",
       "<style scoped>\n",
       "    .dataframe tbody tr th:only-of-type {\n",
       "        vertical-align: middle;\n",
       "    }\n",
       "\n",
       "    .dataframe tbody tr th {\n",
       "        vertical-align: top;\n",
       "    }\n",
       "\n",
       "    .dataframe thead th {\n",
       "        text-align: right;\n",
       "    }\n",
       "</style>\n",
       "<table border=\"1\" class=\"dataframe\">\n",
       "  <thead>\n",
       "    <tr style=\"text-align: right;\">\n",
       "      <th></th>\n",
       "      <th>Open</th>\n",
       "      <th>High</th>\n",
       "      <th>Low</th>\n",
       "      <th>Close</th>\n",
       "      <th>Adj Close</th>\n",
       "      <th>Volume</th>\n",
       "    </tr>\n",
       "    <tr>\n",
       "      <th>Datetime</th>\n",
       "      <th></th>\n",
       "      <th></th>\n",
       "      <th></th>\n",
       "      <th></th>\n",
       "      <th></th>\n",
       "      <th></th>\n",
       "    </tr>\n",
       "  </thead>\n",
       "  <tbody>\n",
       "  </tbody>\n",
       "</table>\n",
       "</div>"
      ],
      "text/plain": [
       "Empty DataFrame\n",
       "Columns: [Open, High, Low, Close, Adj Close, Volume]\n",
       "Index: []"
      ]
     },
     "execution_count": 18,
     "metadata": {},
     "output_type": "execute_result"
    }
   ],
   "source": [
    "start = datetime(2022, 7, 22, 9, 30, 0)\n",
    "end = datetime(2022, 7, 22, 12, 31, 0)\n",
    "nasdaq722 = nasdaq[start: end]\n",
    "nasdaq722.head(5)"
   ]
  },
  {
   "cell_type": "code",
   "execution_count": 19,
   "id": "04fb73d0",
   "metadata": {},
   "outputs": [
    {
     "data": {
      "text/plain": [
       "<matplotlib.legend.Legend at 0x1b05892ab50>"
      ]
     },
     "execution_count": 19,
     "metadata": {},
     "output_type": "execute_result"
    },
    {
     "data": {
      "image/png": "[encoded data removed]",
      "text/plain": [
       "<Figure size 432x288 with 1 Axes>"
      ]
     },
     "metadata": {
      "needs_background": "light"
     },
     "output_type": "display_data"
    }
   ],
   "source": [
    "plt.plot(nasdaq722.index, nasdaq722['Close'], 'b', label='nasdaq722')\n",
    "plt.legend(loc='best')"
   ]
  },
  {
   "cell_type": "markdown",
   "id": "c4e949fd",
   "metadata": {},
   "source": [
    "### 10분 단위"
   ]
  },
  {
   "cell_type": "code",
   "execution_count": 20,
   "id": "9d15fdb1",
   "metadata": {},
   "outputs": [
    {
     "data": {
      "text/html": [
       "<div>\n",
       "<style scoped>\n",
       "    .dataframe tbody tr th:only-of-type {\n",
       "        vertical-align: middle;\n",
       "    }\n",
       "\n",
       "    .dataframe tbody tr th {\n",
       "        vertical-align: top;\n",
       "    }\n",
       "\n",
       "    .dataframe thead th {\n",
       "        text-align: right;\n",
       "    }\n",
       "</style>\n",
       "<table border=\"1\" class=\"dataframe\">\n",
       "  <thead>\n",
       "    <tr style=\"text-align: right;\">\n",
       "      <th></th>\n",
       "      <th>Open</th>\n",
       "      <th>High</th>\n",
       "      <th>Low</th>\n",
       "      <th>Close</th>\n",
       "      <th>Adj Close</th>\n",
       "      <th>Volume</th>\n",
       "    </tr>\n",
       "    <tr>\n",
       "      <th>Datetime</th>\n",
       "      <th></th>\n",
       "      <th></th>\n",
       "      <th></th>\n",
       "      <th></th>\n",
       "      <th></th>\n",
       "      <th></th>\n",
       "    </tr>\n",
       "  </thead>\n",
       "  <tbody>\n",
       "  </tbody>\n",
       "</table>\n",
       "</div>"
      ],
      "text/plain": [
       "Empty DataFrame\n",
       "Columns: [Open, High, Low, Close, Adj Close, Volume]\n",
       "Index: []"
      ]
     },
     "execution_count": 20,
     "metadata": {},
     "output_type": "execute_result"
    }
   ],
   "source": [
    "nasdaq722 = nasdaq722[0::2]\n",
    "nasdaq722.head(10)"
   ]
  },
  {
   "cell_type": "code",
   "execution_count": 21,
   "id": "de21ef5f",
   "metadata": {},
   "outputs": [
    {
     "data": {
      "text/plain": [
       "<matplotlib.legend.Legend at 0x1b058c8a4c0>"
      ]
     },
     "execution_count": 21,
     "metadata": {},
     "output_type": "execute_result"
    },
    {
     "data": {
      "image/png": "[encoded data removed]",
      "text/plain": [
       "<Figure size 432x288 with 1 Axes>"
      ]
     },
     "metadata": {
      "needs_background": "light"
     },
     "output_type": "display_data"
    }
   ],
   "source": [
    "plt.plot(nasdaq722.index, nasdaq722['Close'], 'b', label='nasdaq722')\n",
    "plt.legend(loc='best')"
   ]
  },
  {
   "cell_type": "code",
   "execution_count": 22,
   "id": "743b0d87",
   "metadata": {},
   "outputs": [
    {
     "data": {
      "text/plain": [
       "Series([], Name: Close, dtype: float64)"
      ]
     },
     "execution_count": 22,
     "metadata": {},
     "output_type": "execute_result"
    }
   ],
   "source": [
    "# 10분간 변동률 체크\n",
    "# 분간 변동률 (minute percentage change)\n",
    "nasdaq_mpc = (nasdaq722['Close'] / nasdaq722['Close'].shift(1)-1)*100\n",
    "nasdaq_mpc.head(10)"
   ]
  },
  {
   "cell_type": "code",
   "execution_count": 23,
   "id": "f6e35e82",
   "metadata": {},
   "outputs": [
    {
     "ename": "IndexError",
     "evalue": "index 0 is out of bounds for axis 0 with size 0",
     "output_type": "error",
     "traceback": [
      "\u001b[1;31m---------------------------------------------------------------------------\u001b[0m",
      "\u001b[1;31mTypeError\u001b[0m                                 Traceback (most recent call last)",
      "\u001b[1;32m~\\anaconda3\\envs\\cuda\\lib\\site-packages\\pandas\\_libs\\index.pyx\u001b[0m in \u001b[0;36mpandas._libs.index.DatetimeEngine.get_loc\u001b[1;34m()\u001b[0m\n",
      "\u001b[1;32m~\\anaconda3\\envs\\cuda\\lib\\site-packages\\pandas\\_libs\\index.pyx\u001b[0m in \u001b[0;36mpandas._libs.index.DatetimeEngine._unbox_scalar\u001b[1;34m()\u001b[0m\n",
      "\u001b[1;31mTypeError\u001b[0m: 0",
      "\nDuring handling of the above exception, another exception occurred:\n",
      "\u001b[1;31mKeyError\u001b[0m                                  Traceback (most recent call last)",
      "\u001b[1;32m~\\anaconda3\\envs\\cuda\\lib\\site-packages\\pandas\\core\\series.py\u001b[0m in \u001b[0;36m__setitem__\u001b[1;34m(self, key, value)\u001b[0m\n\u001b[0;32m   1061\u001b[0m         \u001b[1;32mtry\u001b[0m\u001b[1;33m:\u001b[0m\u001b[1;33m\u001b[0m\u001b[1;33m\u001b[0m\u001b[0m\n\u001b[1;32m-> 1062\u001b[1;33m             \u001b[0mself\u001b[0m\u001b[1;33m.\u001b[0m\u001b[0m_set_with_engine\u001b[0m\u001b[1;33m(\u001b[0m\u001b[0mkey\u001b[0m\u001b[1;33m,\u001b[0m \u001b[0mvalue\u001b[0m\u001b[1;33m)\u001b[0m\u001b[1;33m\u001b[0m\u001b[1;33m\u001b[0m\u001b[0m\n\u001b[0m\u001b[0;32m   1063\u001b[0m         \u001b[1;32mexcept\u001b[0m \u001b[1;33m(\u001b[0m\u001b[0mKeyError\u001b[0m\u001b[1;33m,\u001b[0m \u001b[0mValueError\u001b[0m\u001b[1;33m)\u001b[0m\u001b[1;33m:\u001b[0m\u001b[1;33m\u001b[0m\u001b[1;33m\u001b[0m\u001b[0m\n",
      "\u001b[1;32m~\\anaconda3\\envs\\cuda\\lib\\site-packages\\pandas\\core\\series.py\u001b[0m in \u001b[0;36m_set_with_engine\u001b[1;34m(self, key, value)\u001b[0m\n\u001b[0;32m   1094\u001b[0m         \u001b[1;31m# fails with AttributeError for IntervalIndex\u001b[0m\u001b[1;33m\u001b[0m\u001b[1;33m\u001b[0m\u001b[0m\n\u001b[1;32m-> 1095\u001b[1;33m         \u001b[0mloc\u001b[0m \u001b[1;33m=\u001b[0m \u001b[0mself\u001b[0m\u001b[1;33m.\u001b[0m\u001b[0mindex\u001b[0m\u001b[1;33m.\u001b[0m\u001b[0m_engine\u001b[0m\u001b[1;33m.\u001b[0m\u001b[0mget_loc\u001b[0m\u001b[1;33m(\u001b[0m\u001b[0mkey\u001b[0m\u001b[1;33m)\u001b[0m\u001b[1;33m\u001b[0m\u001b[1;33m\u001b[0m\u001b[0m\n\u001b[0m\u001b[0;32m   1096\u001b[0m         \u001b[1;31m# error: Argument 1 to \"validate_numeric_casting\" has incompatible type\u001b[0m\u001b[1;33m\u001b[0m\u001b[1;33m\u001b[0m\u001b[0m\n",
      "\u001b[1;32m~\\anaconda3\\envs\\cuda\\lib\\site-packages\\pandas\\_libs\\index.pyx\u001b[0m in \u001b[0;36mpandas._libs.index.DatetimeEngine.get_loc\u001b[1;34m()\u001b[0m\n",
      "\u001b[1;32m~\\anaconda3\\envs\\cuda\\lib\\site-packages\\pandas\\_libs\\index.pyx\u001b[0m in \u001b[0;36mpandas._libs.index.DatetimeEngine.get_loc\u001b[1;34m()\u001b[0m\n",
      "\u001b[1;31mKeyError\u001b[0m: 0",
      "\nDuring handling of the above exception, another exception occurred:\n",
      "\u001b[1;31mIndexError\u001b[0m                                Traceback (most recent call last)",
      "\u001b[1;32mC:\\Users\\JUNGSU~1\\AppData\\Local\\Temp/ipykernel_15872/2525570279.py\u001b[0m in \u001b[0;36m<module>\u001b[1;34m\u001b[0m\n\u001b[1;32m----> 1\u001b[1;33m \u001b[0mnasdaq_mpc\u001b[0m\u001b[1;33m[\u001b[0m\u001b[1;36m0\u001b[0m\u001b[1;33m]\u001b[0m \u001b[1;33m=\u001b[0m \u001b[1;36m0\u001b[0m\u001b[1;33m\u001b[0m\u001b[1;33m\u001b[0m\u001b[0m\n\u001b[0m\u001b[0;32m      2\u001b[0m \u001b[0mplt\u001b[0m\u001b[1;33m.\u001b[0m\u001b[0mhist\u001b[0m\u001b[1;33m(\u001b[0m\u001b[0mnasdaq_mpc\u001b[0m\u001b[1;33m,\u001b[0m \u001b[0mbins\u001b[0m \u001b[1;33m=\u001b[0m \u001b[1;36m20\u001b[0m\u001b[1;33m)\u001b[0m\u001b[1;33m\u001b[0m\u001b[1;33m\u001b[0m\u001b[0m\n",
      "\u001b[1;32m~\\anaconda3\\envs\\cuda\\lib\\site-packages\\pandas\\core\\series.py\u001b[0m in \u001b[0;36m__setitem__\u001b[1;34m(self, key, value)\u001b[0m\n\u001b[0;32m   1065\u001b[0m             \u001b[1;32mif\u001b[0m \u001b[0mis_integer\u001b[0m\u001b[1;33m(\u001b[0m\u001b[0mkey\u001b[0m\u001b[1;33m)\u001b[0m \u001b[1;32mand\u001b[0m \u001b[0mself\u001b[0m\u001b[1;33m.\u001b[0m\u001b[0mindex\u001b[0m\u001b[1;33m.\u001b[0m\u001b[0minferred_type\u001b[0m \u001b[1;33m!=\u001b[0m \u001b[1;34m\"integer\"\u001b[0m\u001b[1;33m:\u001b[0m\u001b[1;33m\u001b[0m\u001b[1;33m\u001b[0m\u001b[0m\n\u001b[0;32m   1066\u001b[0m                 \u001b[1;31m# positional setter\u001b[0m\u001b[1;33m\u001b[0m\u001b[1;33m\u001b[0m\u001b[0m\n\u001b[1;32m-> 1067\u001b[1;33m                 \u001b[0mvalues\u001b[0m\u001b[1;33m[\u001b[0m\u001b[0mkey\u001b[0m\u001b[1;33m]\u001b[0m \u001b[1;33m=\u001b[0m \u001b[0mvalue\u001b[0m\u001b[1;33m\u001b[0m\u001b[1;33m\u001b[0m\u001b[0m\n\u001b[0m\u001b[0;32m   1068\u001b[0m             \u001b[1;32melse\u001b[0m\u001b[1;33m:\u001b[0m\u001b[1;33m\u001b[0m\u001b[1;33m\u001b[0m\u001b[0m\n\u001b[0;32m   1069\u001b[0m                 \u001b[1;31m# GH#12862 adding a new key to the Series\u001b[0m\u001b[1;33m\u001b[0m\u001b[1;33m\u001b[0m\u001b[0m\n",
      "\u001b[1;31mIndexError\u001b[0m: index 0 is out of bounds for axis 0 with size 0"
     ]
    }
   ],
   "source": [
    "nasdaq_mpc[0] = 0\n",
    "plt.hist(nasdaq_mpc, bins = 20)"
   ]
  },
  {
   "cell_type": "markdown",
   "id": "0a795c60",
   "metadata": {},
   "source": [
    "### 엑셀 데이터 불러오기"
   ]
  },
  {
   "cell_type": "code",
   "execution_count": null,
   "id": "af0dc57c",
   "metadata": {},
   "outputs": [],
   "source": [
    "nasdaq_0702 = pd.read_csv('./YfinanceData/nasdaq_2022-07-01.csv')\n",
    "nasdaq_0702"
   ]
  },
  {
   "cell_type": "markdown",
   "id": "f2491470",
   "metadata": {},
   "source": [
    "### 현재가 확인"
   ]
  },
  {
   "cell_type": "code",
   "execution_count": 24,
   "id": "44c131fb",
   "metadata": {},
   "outputs": [
    {
     "ename": "NameError",
     "evalue": "name 'price' is not defined",
     "output_type": "error",
     "traceback": [
      "\u001b[1;31m---------------------------------------------------------------------------\u001b[0m",
      "\u001b[1;31mNameError\u001b[0m                                 Traceback (most recent call last)",
      "\u001b[1;32mC:\\Users\\JUNGSU~1\\AppData\\Local\\Temp/ipykernel_15872/1979550739.py\u001b[0m in \u001b[0;36m<module>\u001b[1;34m\u001b[0m\n\u001b[0;32m      1\u001b[0m \u001b[0mnow_price\u001b[0m \u001b[1;33m=\u001b[0m \u001b[0myf\u001b[0m\u001b[1;33m.\u001b[0m\u001b[0mTicker\u001b[0m\u001b[1;33m(\u001b[0m\u001b[1;34m'TQQQ'\u001b[0m\u001b[1;33m)\u001b[0m\u001b[1;33m.\u001b[0m\u001b[0mhistory\u001b[0m\u001b[1;33m(\u001b[0m\u001b[0mperiod\u001b[0m\u001b[1;33m=\u001b[0m\u001b[1;34m'1d'\u001b[0m\u001b[1;33m,\u001b[0m \u001b[0minterval\u001b[0m\u001b[1;33m=\u001b[0m\u001b[1;34m'1m'\u001b[0m\u001b[1;33m)\u001b[0m\u001b[1;33m.\u001b[0m\u001b[0miloc\u001b[0m\u001b[1;33m[\u001b[0m\u001b[1;33m-\u001b[0m\u001b[1;36m1\u001b[0m\u001b[1;33m]\u001b[0m\u001b[1;33m[\u001b[0m\u001b[1;33m[\u001b[0m\u001b[1;34m'Open'\u001b[0m\u001b[1;33m,\u001b[0m \u001b[1;34m'Close'\u001b[0m\u001b[1;33m]\u001b[0m\u001b[1;33m]\u001b[0m\u001b[1;33m\u001b[0m\u001b[1;33m\u001b[0m\u001b[0m\n\u001b[1;32m----> 2\u001b[1;33m \u001b[0mprice\u001b[0m\u001b[1;33m\u001b[0m\u001b[1;33m\u001b[0m\u001b[0m\n\u001b[0m",
      "\u001b[1;31mNameError\u001b[0m: name 'price' is not defined"
     ]
    }
   ],
   "source": [
    "now_price = yf.Ticker('TQQQ').history(period='1d', interval='1m').iloc[-1][['Open', 'Close']]\n",
    "price"
   ]
  },
  {
   "cell_type": "code",
   "execution_count": 25,
   "id": "dcadd717",
   "metadata": {},
   "outputs": [
    {
     "ename": "NameError",
     "evalue": "name 'price' is not defined",
     "output_type": "error",
     "traceback": [
      "\u001b[1;31m---------------------------------------------------------------------------\u001b[0m",
      "\u001b[1;31mNameError\u001b[0m                                 Traceback (most recent call last)",
      "\u001b[1;32mC:\\Users\\JUNGSU~1\\AppData\\Local\\Temp/ipykernel_15872/3110680657.py\u001b[0m in \u001b[0;36m<module>\u001b[1;34m\u001b[0m\n\u001b[1;32m----> 1\u001b[1;33m \u001b[0mnow_price\u001b[0m \u001b[1;33m=\u001b[0m \u001b[0mprice\u001b[0m\u001b[1;33m.\u001b[0m\u001b[0miloc\u001b[0m\u001b[1;33m[\u001b[0m\u001b[1;33m-\u001b[0m\u001b[1;36m1\u001b[0m\u001b[1;33m]\u001b[0m\u001b[1;33m\u001b[0m\u001b[1;33m\u001b[0m\u001b[0m\n\u001b[0m\u001b[0;32m      2\u001b[0m \u001b[0mnow_price\u001b[0m\u001b[1;33m\u001b[0m\u001b[1;33m\u001b[0m\u001b[0m\n",
      "\u001b[1;31mNameError\u001b[0m: name 'price' is not defined"
     ]
    }
   ],
   "source": [
    "now_price = price.iloc[-1]\n",
    "now_price"
   ]
  },
  {
   "cell_type": "code",
   "execution_count": 26,
   "id": "e8fcaa3f",
   "metadata": {},
   "outputs": [
    {
     "name": "stdout",
     "output_type": "stream",
     "text": [
      "Help on package yfinance:\n",
      "\n",
      "NAME\n",
      "    yfinance\n",
      "\n",
      "DESCRIPTION\n",
      "    # -*- coding: utf-8 -*-\n",
      "    #\n",
      "    # yfinance - market data downloader\n",
      "    # https://github.com/ranaroussi/yfinance\n",
      "    #\n",
      "    # Copyright 2017-2019 Ran Aroussi\n",
      "    #\n",
      "    # Licensed under the Apache License, Version 2.0 (the \"License\");\n",
      "    # you may not use this file except in compliance with the License.\n",
      "    # You may obtain a copy of the License at\n",
      "    #\n",
      "    #     http://www.apache.org/licenses/LICENSE-2.0\n",
      "    #\n",
      "    # Unless required by applicable law or agreed to in writing, software\n",
      "    # distributed under the License is distributed on an \"AS IS\" BASIS,\n",
      "    # WITHOUT WARRANTIES OR CONDITIONS OF ANY KIND, either express or implied.\n",
      "    # See the License for the specific language governing permissions and\n",
      "    # limitations under the License.\n",
      "    #\n",
      "\n",
      "PACKAGE CONTENTS\n",
      "    base\n",
      "    multi\n",
      "    shared\n",
      "    ticker\n",
      "    tickers\n",
      "    utils\n",
      "    version\n",
      "\n",
      "CLASSES\n",
      "    builtins.object\n",
      "        yfinance.tickers.Tickers\n",
      "    yfinance.base.TickerBase(builtins.object)\n",
      "        yfinance.ticker.Ticker\n",
      "    \n",
      "    class Ticker(yfinance.base.TickerBase)\n",
      "     |  Ticker(ticker, session=None)\n",
      "     |  \n",
      "     |  Method resolution order:\n",
      "     |      Ticker\n",
      "     |      yfinance.base.TickerBase\n",
      "     |      builtins.object\n",
      "     |  \n",
      "     |  Methods defined here:\n",
      "     |  \n",
      "     |  __repr__(self)\n",
      "     |      Return repr(self).\n",
      "     |  \n",
      "     |  option_chain(self, date=None, proxy=None, tz=None)\n",
      "     |  \n",
      "     |  ----------------------------------------------------------------------\n",
      "     |  Readonly properties defined here:\n",
      "     |  \n",
      "     |  actions\n",
      "     |  \n",
      "     |  analysis\n",
      "     |  \n",
      "     |  balance_sheet\n",
      "     |  \n",
      "     |  balancesheet\n",
      "     |  \n",
      "     |  calendar\n",
      "     |  \n",
      "     |  cashflow\n",
      "     |  \n",
      "     |  dividends\n",
      "     |  \n",
      "     |  earnings\n",
      "     |  \n",
      "     |  earnings_dates\n",
      "     |  \n",
      "     |  earnings_history\n",
      "     |  \n",
      "     |  financials\n",
      "     |  \n",
      "     |  info\n",
      "     |  \n",
      "     |  institutional_holders\n",
      "     |  \n",
      "     |  isin\n",
      "     |  \n",
      "     |  major_holders\n",
      "     |  \n",
      "     |  mutualfund_holders\n",
      "     |  \n",
      "     |  news\n",
      "     |  \n",
      "     |  options\n",
      "     |  \n",
      "     |  quarterly_balance_sheet\n",
      "     |  \n",
      "     |  quarterly_balancesheet\n",
      "     |  \n",
      "     |  quarterly_cashflow\n",
      "     |  \n",
      "     |  quarterly_earnings\n",
      "     |  \n",
      "     |  quarterly_financials\n",
      "     |  \n",
      "     |  recommendations\n",
      "     |  \n",
      "     |  shares\n",
      "     |  \n",
      "     |  splits\n",
      "     |  \n",
      "     |  sustainability\n",
      "     |  \n",
      "     |  ----------------------------------------------------------------------\n",
      "     |  Methods inherited from yfinance.base.TickerBase:\n",
      "     |  \n",
      "     |  __init__(self, ticker, session=None)\n",
      "     |      Initialize self.  See help(type(self)) for accurate signature.\n",
      "     |  \n",
      "     |  get_actions(self, proxy=None)\n",
      "     |  \n",
      "     |  get_analysis(self, proxy=None, as_dict=False, *args, **kwargs)\n",
      "     |  \n",
      "     |  get_balance_sheet(self, proxy=None, as_dict=False, freq='yearly')\n",
      "     |  \n",
      "     |  get_balancesheet(self, proxy=None, as_dict=False, freq='yearly')\n",
      "     |  \n",
      "     |  get_calendar(self, proxy=None, as_dict=False, *args, **kwargs)\n",
      "     |  \n",
      "     |  get_cashflow(self, proxy=None, as_dict=False, freq='yearly')\n",
      "     |  \n",
      "     |  get_dividends(self, proxy=None)\n",
      "     |  \n",
      "     |  get_earnings(self, proxy=None, as_dict=False, freq='yearly')\n",
      "     |  \n",
      "     |  get_earnings_dates(self, proxy=None)\n",
      "     |  \n",
      "     |  get_earnings_history(self, proxy=None)\n",
      "     |  \n",
      "     |  get_financials(self, proxy=None, as_dict=False, freq='yearly')\n",
      "     |  \n",
      "     |  get_info(self, proxy=None, as_dict=False, *args, **kwargs)\n",
      "     |  \n",
      "     |  get_institutional_holders(self, proxy=None, as_dict=False, *args, **kwargs)\n",
      "     |  \n",
      "     |  get_isin(self, proxy=None)\n",
      "     |  \n",
      "     |  get_major_holders(self, proxy=None, as_dict=False, *args, **kwargs)\n",
      "     |  \n",
      "     |  get_mutualfund_holders(self, proxy=None, as_dict=False, *args, **kwargs)\n",
      "     |  \n",
      "     |  get_news(self, proxy=None)\n",
      "     |  \n",
      "     |  get_recommendations(self, proxy=None, as_dict=False, *args, **kwargs)\n",
      "     |  \n",
      "     |  get_shares(self, proxy=None, as_dict=False, *args, **kwargs)\n",
      "     |  \n",
      "     |  get_splits(self, proxy=None)\n",
      "     |  \n",
      "     |  get_sustainability(self, proxy=None, as_dict=False, *args, **kwargs)\n",
      "     |  \n",
      "     |  history(self, period='1mo', interval='1d', start=None, end=None, prepost=False, actions=True, auto_adjust=True, back_adjust=False, proxy=None, rounding=False, tz=None, timeout=None, **kwargs)\n",
      "     |      :Parameters:\n",
      "     |          period : str\n",
      "     |              Valid periods: 1d,5d,1mo,3mo,6mo,1y,2y,5y,10y,ytd,max\n",
      "     |              Either Use period parameter or use start and end\n",
      "     |          interval : str\n",
      "     |              Valid intervals: 1m,2m,5m,15m,30m,60m,90m,1h,1d,5d,1wk,1mo,3mo\n",
      "     |              Intraday data cannot extend last 60 days\n",
      "     |          start: str\n",
      "     |              Download start date string (YYYY-MM-DD) or _datetime.\n",
      "     |              Default is 1900-01-01\n",
      "     |          end: str\n",
      "     |              Download end date string (YYYY-MM-DD) or _datetime.\n",
      "     |              Default is now\n",
      "     |          prepost : bool\n",
      "     |              Include Pre and Post market data in results?\n",
      "     |              Default is False\n",
      "     |          auto_adjust: bool\n",
      "     |              Adjust all OHLC automatically? Default is True\n",
      "     |          back_adjust: bool\n",
      "     |              Back-adjusted data to mimic true historical prices\n",
      "     |          proxy: str\n",
      "     |              Optional. Proxy server URL scheme. Default is None\n",
      "     |          rounding: bool\n",
      "     |              Round values to 2 decimal places?\n",
      "     |              Optional. Default is False = precision suggested by Yahoo!\n",
      "     |          tz: str\n",
      "     |              Optional timezone locale for dates.\n",
      "     |              (default data is returned as non-localized dates)\n",
      "     |          timeout: None or float\n",
      "     |              If not None stops waiting for a response after given number of\n",
      "     |              seconds. (Can also be a fraction of a second e.g. 0.01)\n",
      "     |              Default is None.\n",
      "     |          **kwargs: dict\n",
      "     |              debug: bool\n",
      "     |                  Optional. If passed as False, will suppress\n",
      "     |                  error message printing to console.\n",
      "     |  \n",
      "     |  stats(self, proxy=None)\n",
      "     |  \n",
      "     |  ----------------------------------------------------------------------\n",
      "     |  Data descriptors inherited from yfinance.base.TickerBase:\n",
      "     |  \n",
      "     |  __dict__\n",
      "     |      dictionary for instance variables (if defined)\n",
      "     |  \n",
      "     |  __weakref__\n",
      "     |      list of weak references to the object (if defined)\n",
      "    \n",
      "    class Tickers(builtins.object)\n",
      "     |  Tickers(tickers, session=None)\n",
      "     |  \n",
      "     |  Methods defined here:\n",
      "     |  \n",
      "     |  __init__(self, tickers, session=None)\n",
      "     |      Initialize self.  See help(type(self)) for accurate signature.\n",
      "     |  \n",
      "     |  __repr__(self)\n",
      "     |      Return repr(self).\n",
      "     |  \n",
      "     |  download(self, period='1mo', interval='1d', start=None, end=None, prepost=False, actions=True, auto_adjust=True, proxy=None, threads=True, group_by='column', progress=True, timeout=None, **kwargs)\n",
      "     |  \n",
      "     |  history(self, period='1mo', interval='1d', start=None, end=None, prepost=False, actions=True, auto_adjust=True, proxy=None, threads=True, group_by='column', progress=True, timeout=None, **kwargs)\n",
      "     |  \n",
      "     |  news(self)\n",
      "     |  \n",
      "     |  ----------------------------------------------------------------------\n",
      "     |  Data descriptors defined here:\n",
      "     |  \n",
      "     |  __dict__\n",
      "     |      dictionary for instance variables (if defined)\n",
      "     |  \n",
      "     |  __weakref__\n",
      "     |      list of weak references to the object (if defined)\n",
      "\n",
      "FUNCTIONS\n",
      "    download(tickers, start=None, end=None, actions=False, threads=True, group_by='column', auto_adjust=False, back_adjust=False, progress=True, period='max', show_errors=True, interval='1d', prepost=False, proxy=None, rounding=False, timeout=None, **kwargs)\n",
      "        Download yahoo tickers\n",
      "        :Parameters:\n",
      "            tickers : str, list\n",
      "                List of tickers to download\n",
      "            period : str\n",
      "                Valid periods: 1d,5d,1mo,3mo,6mo,1y,2y,5y,10y,ytd,max\n",
      "                Either Use period parameter or use start and end\n",
      "            interval : str\n",
      "                Valid intervals: 1m,2m,5m,15m,30m,60m,90m,1h,1d,5d,1wk,1mo,3mo\n",
      "                Intraday data cannot extend last 60 days\n",
      "            start: str\n",
      "                Download start date string (YYYY-MM-DD) or _datetime.\n",
      "                Default is 1900-01-01\n",
      "            end: str\n",
      "                Download end date string (YYYY-MM-DD) or _datetime.\n",
      "                Default is now\n",
      "            group_by : str\n",
      "                Group by 'ticker' or 'column' (default)\n",
      "            prepost : bool\n",
      "                Include Pre and Post market data in results?\n",
      "                Default is False\n",
      "            auto_adjust: bool\n",
      "                Adjust all OHLC automatically? Default is False\n",
      "            actions: bool\n",
      "                Download dividend + stock splits data. Default is False\n",
      "            threads: bool / int\n",
      "                How many threads to use for mass downloading. Default is True\n",
      "            proxy: str\n",
      "                Optional. Proxy server URL scheme. Default is None\n",
      "            rounding: bool\n",
      "                Optional. Round values to 2 decimal places?\n",
      "            show_errors: bool\n",
      "                Optional. Doesn't print errors if False\n",
      "            timeout: None or float\n",
      "                If not None stops waiting for a response after given number of\n",
      "                seconds. (Can also be a fraction of a second e.g. 0.01)\n",
      "    \n",
      "    pdr_override()\n",
      "        make pandas datareader optional\n",
      "        otherwise can be called via fix_yahoo_finance.download(...)\n",
      "\n",
      "DATA\n",
      "    __all__ = ['download', 'Ticker', 'Tickers', 'pdr_override']\n",
      "\n",
      "VERSION\n",
      "    0.1.74\n",
      "\n",
      "AUTHOR\n",
      "    Ran Aroussi\n",
      "\n",
      "FILE\n",
      "    c:\\users\\jungsuplim\\anaconda3\\envs\\cuda\\lib\\site-packages\\yfinance\\__init__.py\n",
      "\n",
      "\n"
     ]
    }
   ],
   "source": [
    "help('yfinance')"
   ]
  },
  {
   "cell_type": "code",
   "execution_count": 29,
   "id": "d69ea4f9",
   "metadata": {},
   "outputs": [
    {
     "data": {
      "text/html": [
       "<div>\n",
       "<style scoped>\n",
       "    .dataframe tbody tr th:only-of-type {\n",
       "        vertical-align: middle;\n",
       "    }\n",
       "\n",
       "    .dataframe tbody tr th {\n",
       "        vertical-align: top;\n",
       "    }\n",
       "\n",
       "    .dataframe thead th {\n",
       "        text-align: right;\n",
       "    }\n",
       "</style>\n",
       "<table border=\"1\" class=\"dataframe\">\n",
       "  <thead>\n",
       "    <tr style=\"text-align: right;\">\n",
       "      <th></th>\n",
       "      <th>Date</th>\n",
       "      <th>Open</th>\n",
       "      <th>High</th>\n",
       "      <th>Low</th>\n",
       "      <th>Close</th>\n",
       "      <th>Adj Close</th>\n",
       "      <th>Volume</th>\n",
       "    </tr>\n",
       "  </thead>\n",
       "  <tbody>\n",
       "    <tr>\n",
       "      <th>0</th>\n",
       "      <td>2022-05-05</td>\n",
       "      <td>40.500000</td>\n",
       "      <td>40.509998</td>\n",
       "      <td>34.520000</td>\n",
       "      <td>35.860001</td>\n",
       "      <td>35.860001</td>\n",
       "      <td>227776300</td>\n",
       "    </tr>\n",
       "    <tr>\n",
       "      <th>1</th>\n",
       "      <td>2022-05-06</td>\n",
       "      <td>35.090000</td>\n",
       "      <td>36.529999</td>\n",
       "      <td>33.099998</td>\n",
       "      <td>34.610001</td>\n",
       "      <td>34.610001</td>\n",
       "      <td>233397200</td>\n",
       "    </tr>\n",
       "    <tr>\n",
       "      <th>2</th>\n",
       "      <td>2022-05-09</td>\n",
       "      <td>32.560001</td>\n",
       "      <td>33.419998</td>\n",
       "      <td>30.010000</td>\n",
       "      <td>30.520000</td>\n",
       "      <td>30.520000</td>\n",
       "      <td>210209900</td>\n",
       "    </tr>\n",
       "    <tr>\n",
       "      <th>3</th>\n",
       "      <td>2022-05-10</td>\n",
       "      <td>32.720001</td>\n",
       "      <td>33.080002</td>\n",
       "      <td>30.280001</td>\n",
       "      <td>31.570000</td>\n",
       "      <td>31.570000</td>\n",
       "      <td>231789800</td>\n",
       "    </tr>\n",
       "    <tr>\n",
       "      <th>4</th>\n",
       "      <td>2022-05-11</td>\n",
       "      <td>30.850000</td>\n",
       "      <td>32.599998</td>\n",
       "      <td>28.469999</td>\n",
       "      <td>28.760000</td>\n",
       "      <td>28.760000</td>\n",
       "      <td>264765900</td>\n",
       "    </tr>\n",
       "    <tr>\n",
       "      <th>...</th>\n",
       "      <td>...</td>\n",
       "      <td>...</td>\n",
       "      <td>...</td>\n",
       "      <td>...</td>\n",
       "      <td>...</td>\n",
       "      <td>...</td>\n",
       "      <td>...</td>\n",
       "    </tr>\n",
       "    <tr>\n",
       "      <th>57</th>\n",
       "      <td>2022-07-28</td>\n",
       "      <td>30.680000</td>\n",
       "      <td>31.820000</td>\n",
       "      <td>29.520000</td>\n",
       "      <td>31.620001</td>\n",
       "      <td>31.620001</td>\n",
       "      <td>162035900</td>\n",
       "    </tr>\n",
       "    <tr>\n",
       "      <th>58</th>\n",
       "      <td>2022-07-29</td>\n",
       "      <td>32.130001</td>\n",
       "      <td>33.650002</td>\n",
       "      <td>31.670000</td>\n",
       "      <td>33.360001</td>\n",
       "      <td>33.360001</td>\n",
       "      <td>146073200</td>\n",
       "    </tr>\n",
       "    <tr>\n",
       "      <th>59</th>\n",
       "      <td>2022-08-01</td>\n",
       "      <td>32.779999</td>\n",
       "      <td>34.419998</td>\n",
       "      <td>32.439999</td>\n",
       "      <td>33.310001</td>\n",
       "      <td>33.310001</td>\n",
       "      <td>142641500</td>\n",
       "    </tr>\n",
       "    <tr>\n",
       "      <th>60</th>\n",
       "      <td>2022-08-02</td>\n",
       "      <td>32.540001</td>\n",
       "      <td>34.349998</td>\n",
       "      <td>32.209999</td>\n",
       "      <td>33.000000</td>\n",
       "      <td>33.000000</td>\n",
       "      <td>162687500</td>\n",
       "    </tr>\n",
       "    <tr>\n",
       "      <th>61</th>\n",
       "      <td>2022-08-03</td>\n",
       "      <td>33.549999</td>\n",
       "      <td>35.950001</td>\n",
       "      <td>33.310001</td>\n",
       "      <td>35.639999</td>\n",
       "      <td>35.639999</td>\n",
       "      <td>146629600</td>\n",
       "    </tr>\n",
       "  </tbody>\n",
       "</table>\n",
       "<p>62 rows × 7 columns</p>\n",
       "</div>"
      ],
      "text/plain": [
       "          Date       Open       High        Low      Close  Adj Close  \\\n",
       "0   2022-05-05  40.500000  40.509998  34.520000  35.860001  35.860001   \n",
       "1   2022-05-06  35.090000  36.529999  33.099998  34.610001  34.610001   \n",
       "2   2022-05-09  32.560001  33.419998  30.010000  30.520000  30.520000   \n",
       "3   2022-05-10  32.720001  33.080002  30.280001  31.570000  31.570000   \n",
       "4   2022-05-11  30.850000  32.599998  28.469999  28.760000  28.760000   \n",
       "..         ...        ...        ...        ...        ...        ...   \n",
       "57  2022-07-28  30.680000  31.820000  29.520000  31.620001  31.620001   \n",
       "58  2022-07-29  32.130001  33.650002  31.670000  33.360001  33.360001   \n",
       "59  2022-08-01  32.779999  34.419998  32.439999  33.310001  33.310001   \n",
       "60  2022-08-02  32.540001  34.349998  32.209999  33.000000  33.000000   \n",
       "61  2022-08-03  33.549999  35.950001  33.310001  35.639999  35.639999   \n",
       "\n",
       "       Volume  \n",
       "0   227776300  \n",
       "1   233397200  \n",
       "2   210209900  \n",
       "3   231789800  \n",
       "4   264765900  \n",
       "..        ...  \n",
       "57  162035900  \n",
       "58  146073200  \n",
       "59  142641500  \n",
       "60  162687500  \n",
       "61  146629600  \n",
       "\n",
       "[62 rows x 7 columns]"
      ]
     },
     "execution_count": 29,
     "metadata": {},
     "output_type": "execute_result"
    }
   ],
   "source": [
    "df = pd.read_csv('./YfinanceData/1d/tqqq.csv')\n",
    "time_now = datetime.now()\n",
    "lastday = datetime.now()-timedelta(days=1)\n",
    "df"
   ]
  },
  {
   "cell_type": "code",
   "execution_count": 3,
   "id": "0aa12b32",
   "metadata": {},
   "outputs": [
    {
     "data": {
      "text/html": [
       "<div>\n",
       "<style scoped>\n",
       "    .dataframe tbody tr th:only-of-type {\n",
       "        vertical-align: middle;\n",
       "    }\n",
       "\n",
       "    .dataframe tbody tr th {\n",
       "        vertical-align: top;\n",
       "    }\n",
       "\n",
       "    .dataframe thead th {\n",
       "        text-align: right;\n",
       "    }\n",
       "</style>\n",
       "<table border=\"1\" class=\"dataframe\">\n",
       "  <thead>\n",
       "    <tr style=\"text-align: right;\">\n",
       "      <th></th>\n",
       "      <th>Open</th>\n",
       "      <th>High</th>\n",
       "      <th>Low</th>\n",
       "      <th>Close</th>\n",
       "      <th>Volume</th>\n",
       "      <th>Dividends</th>\n",
       "      <th>Stock Splits</th>\n",
       "    </tr>\n",
       "    <tr>\n",
       "      <th>Date</th>\n",
       "      <th></th>\n",
       "      <th></th>\n",
       "      <th></th>\n",
       "      <th></th>\n",
       "      <th></th>\n",
       "      <th></th>\n",
       "      <th></th>\n",
       "    </tr>\n",
       "  </thead>\n",
       "  <tbody>\n",
       "    <tr>\n",
       "      <th>2022-03-28</th>\n",
       "      <td>56.919998</td>\n",
       "      <td>59.610001</td>\n",
       "      <td>56.330002</td>\n",
       "      <td>59.520000</td>\n",
       "      <td>91703700</td>\n",
       "      <td>0</td>\n",
       "      <td>0</td>\n",
       "    </tr>\n",
       "    <tr>\n",
       "      <th>2022-03-29</th>\n",
       "      <td>61.520000</td>\n",
       "      <td>62.959999</td>\n",
       "      <td>60.139999</td>\n",
       "      <td>62.570000</td>\n",
       "      <td>102006700</td>\n",
       "      <td>0</td>\n",
       "      <td>0</td>\n",
       "    </tr>\n",
       "    <tr>\n",
       "      <th>2022-03-30</th>\n",
       "      <td>61.680000</td>\n",
       "      <td>62.540001</td>\n",
       "      <td>59.799999</td>\n",
       "      <td>60.689999</td>\n",
       "      <td>83909400</td>\n",
       "      <td>0</td>\n",
       "      <td>0</td>\n",
       "    </tr>\n",
       "    <tr>\n",
       "      <th>2022-03-31</th>\n",
       "      <td>60.639999</td>\n",
       "      <td>60.830002</td>\n",
       "      <td>57.900002</td>\n",
       "      <td>58.180000</td>\n",
       "      <td>84049400</td>\n",
       "      <td>0</td>\n",
       "      <td>0</td>\n",
       "    </tr>\n",
       "    <tr>\n",
       "      <th>2022-04-01</th>\n",
       "      <td>58.430000</td>\n",
       "      <td>58.820000</td>\n",
       "      <td>56.400002</td>\n",
       "      <td>57.930000</td>\n",
       "      <td>88081300</td>\n",
       "      <td>0</td>\n",
       "      <td>0</td>\n",
       "    </tr>\n",
       "    <tr>\n",
       "      <th>...</th>\n",
       "      <td>...</td>\n",
       "      <td>...</td>\n",
       "      <td>...</td>\n",
       "      <td>...</td>\n",
       "      <td>...</td>\n",
       "      <td>...</td>\n",
       "      <td>...</td>\n",
       "    </tr>\n",
       "    <tr>\n",
       "      <th>2022-07-29</th>\n",
       "      <td>32.130001</td>\n",
       "      <td>33.650002</td>\n",
       "      <td>31.670000</td>\n",
       "      <td>33.360001</td>\n",
       "      <td>146073200</td>\n",
       "      <td>0</td>\n",
       "      <td>0</td>\n",
       "    </tr>\n",
       "    <tr>\n",
       "      <th>2022-08-01</th>\n",
       "      <td>32.779999</td>\n",
       "      <td>34.419998</td>\n",
       "      <td>32.439999</td>\n",
       "      <td>33.310001</td>\n",
       "      <td>142641500</td>\n",
       "      <td>0</td>\n",
       "      <td>0</td>\n",
       "    </tr>\n",
       "    <tr>\n",
       "      <th>2022-08-02</th>\n",
       "      <td>32.540001</td>\n",
       "      <td>34.349998</td>\n",
       "      <td>32.209999</td>\n",
       "      <td>33.000000</td>\n",
       "      <td>162687500</td>\n",
       "      <td>0</td>\n",
       "      <td>0</td>\n",
       "    </tr>\n",
       "    <tr>\n",
       "      <th>2022-08-03</th>\n",
       "      <td>33.549999</td>\n",
       "      <td>35.950001</td>\n",
       "      <td>33.310001</td>\n",
       "      <td>35.639999</td>\n",
       "      <td>146629600</td>\n",
       "      <td>0</td>\n",
       "      <td>0</td>\n",
       "    </tr>\n",
       "    <tr>\n",
       "      <th>2022-08-04</th>\n",
       "      <td>33.549999</td>\n",
       "      <td>36.000000</td>\n",
       "      <td>35.450001</td>\n",
       "      <td>35.950199</td>\n",
       "      <td>12081037</td>\n",
       "      <td>0</td>\n",
       "      <td>0</td>\n",
       "    </tr>\n",
       "  </tbody>\n",
       "</table>\n",
       "<p>90 rows × 7 columns</p>\n",
       "</div>"
      ],
      "text/plain": [
       "                 Open       High        Low      Close     Volume  Dividends  \\\n",
       "Date                                                                           \n",
       "2022-03-28  56.919998  59.610001  56.330002  59.520000   91703700          0   \n",
       "2022-03-29  61.520000  62.959999  60.139999  62.570000  102006700          0   \n",
       "2022-03-30  61.680000  62.540001  59.799999  60.689999   83909400          0   \n",
       "2022-03-31  60.639999  60.830002  57.900002  58.180000   84049400          0   \n",
       "2022-04-01  58.430000  58.820000  56.400002  57.930000   88081300          0   \n",
       "...               ...        ...        ...        ...        ...        ...   \n",
       "2022-07-29  32.130001  33.650002  31.670000  33.360001  146073200          0   \n",
       "2022-08-01  32.779999  34.419998  32.439999  33.310001  142641500          0   \n",
       "2022-08-02  32.540001  34.349998  32.209999  33.000000  162687500          0   \n",
       "2022-08-03  33.549999  35.950001  33.310001  35.639999  146629600          0   \n",
       "2022-08-04  33.549999  36.000000  35.450001  35.950199   12081037          0   \n",
       "\n",
       "            Stock Splits  \n",
       "Date                      \n",
       "2022-03-28             0  \n",
       "2022-03-29             0  \n",
       "2022-03-30             0  \n",
       "2022-03-31             0  \n",
       "2022-04-01             0  \n",
       "...                  ...  \n",
       "2022-07-29             0  \n",
       "2022-08-01             0  \n",
       "2022-08-02             0  \n",
       "2022-08-03             0  \n",
       "2022-08-04             0  \n",
       "\n",
       "[90 rows x 7 columns]"
      ]
     },
     "execution_count": 3,
     "metadata": {},
     "output_type": "execute_result"
    }
   ],
   "source": [
    "df2 = yf.Ticker('TQQQ').history(period='90d') \n",
    "df2"
   ]
  },
  {
   "cell_type": "code",
   "execution_count": 6,
   "id": "2ef3f6f5",
   "metadata": {},
   "outputs": [
    {
     "data": {
      "text/plain": [
       "Date\n",
       "2022-03-28         NaN\n",
       "2022-03-29         NaN\n",
       "2022-03-30         NaN\n",
       "2022-03-31         NaN\n",
       "2022-04-01         NaN\n",
       "                ...   \n",
       "2022-07-29    27.90350\n",
       "2022-08-01    28.34950\n",
       "2022-08-02    28.71700\n",
       "2022-08-03    29.19200\n",
       "2022-08-04    29.60151\n",
       "Name: Close, Length: 90, dtype: float64"
      ]
     },
     "execution_count": 6,
     "metadata": {},
     "output_type": "execute_result"
    }
   ],
   "source": [
    "df2['Close'].rolling(window=20).mean()"
   ]
  },
  {
   "cell_type": "code",
   "execution_count": 7,
   "id": "19b33dcb",
   "metadata": {},
   "outputs": [
    {
     "data": {
      "text/html": [
       "<div>\n",
       "<style scoped>\n",
       "    .dataframe tbody tr th:only-of-type {\n",
       "        vertical-align: middle;\n",
       "    }\n",
       "\n",
       "    .dataframe tbody tr th {\n",
       "        vertical-align: top;\n",
       "    }\n",
       "\n",
       "    .dataframe thead th {\n",
       "        text-align: right;\n",
       "    }\n",
       "</style>\n",
       "<table border=\"1\" class=\"dataframe\">\n",
       "  <thead>\n",
       "    <tr style=\"text-align: right;\">\n",
       "      <th></th>\n",
       "      <th>Open</th>\n",
       "      <th>High</th>\n",
       "      <th>Low</th>\n",
       "      <th>Close</th>\n",
       "      <th>Volume</th>\n",
       "      <th>Dividends</th>\n",
       "      <th>Stock Splits</th>\n",
       "    </tr>\n",
       "    <tr>\n",
       "      <th>Date</th>\n",
       "      <th></th>\n",
       "      <th></th>\n",
       "      <th></th>\n",
       "      <th></th>\n",
       "      <th></th>\n",
       "      <th></th>\n",
       "      <th></th>\n",
       "    </tr>\n",
       "  </thead>\n",
       "  <tbody>\n",
       "    <tr>\n",
       "      <th>2022-08-04</th>\n",
       "      <td>33.549999</td>\n",
       "      <td>36.0</td>\n",
       "      <td>35.450001</td>\n",
       "      <td>35.639999</td>\n",
       "      <td>14026935</td>\n",
       "      <td>0</td>\n",
       "      <td>0</td>\n",
       "    </tr>\n",
       "  </tbody>\n",
       "</table>\n",
       "</div>"
      ],
      "text/plain": [
       "                 Open  High        Low      Close    Volume  Dividends  \\\n",
       "Date                                                                     \n",
       "2022-08-04  33.549999  36.0  35.450001  35.639999  14026935          0   \n",
       "\n",
       "            Stock Splits  \n",
       "Date                      \n",
       "2022-08-04             0  "
      ]
     },
     "execution_count": 7,
     "metadata": {},
     "output_type": "execute_result"
    }
   ],
   "source": [
    "df3 = yf.Ticker('TQQQ').history(period='1d')\n",
    "df3"
   ]
  },
  {
   "cell_type": "code",
   "execution_count": 12,
   "id": "add5c8b8",
   "metadata": {},
   "outputs": [
    {
     "data": {
      "text/plain": [
       "9"
      ]
     },
     "execution_count": 12,
     "metadata": {},
     "output_type": "execute_result"
    }
   ],
   "source": [
    "t_time = datetime.now().minute\n",
    "t_time%10"
   ]
  },
  {
   "cell_type": "code",
   "execution_count": null,
   "id": "ca24d350",
   "metadata": {},
   "outputs": [],
   "source": []
  },
  {
   "cell_type": "code",
   "execution_count": null,
   "id": "a2792e21",
   "metadata": {},
   "outputs": [],
   "source": []
  }
 ],
 "metadata": {
  "kernelspec": {
   "display_name": "Python 3 (ipykernel)",
   "language": "python",
   "name": "python3"
  },
  "language_info": {
   "codemirror_mode": {
    "name": "ipython",
    "version": 3
   },
   "file_extension": ".py",
   "mimetype": "text/x-python",
   "name": "python",
   "nbconvert_exporter": "python",
   "pygments_lexer": "ipython3",
   "version": "3.9.7"
  }
 },
 "nbformat": 4,
 "nbformat_minor": 5
}
